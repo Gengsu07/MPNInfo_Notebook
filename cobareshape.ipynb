{
 "metadata": {
  "language_info": {
   "codemirror_mode": {
    "name": "ipython",
    "version": 3
   },
   "file_extension": ".py",
   "mimetype": "text/x-python",
   "name": "python",
   "nbconvert_exporter": "python",
   "pygments_lexer": "ipython3",
   "version": "3.9.0"
  },
  "orig_nbformat": 2,
  "kernelspec": {
   "name": "python390jvsc74a57bd0d0c403077b2524c67f7f8e11f307ce8f438e6a6fa2e4184536d9df58ffd5b860",
   "display_name": "Python 3.9.0 64-bit"
  },
  "metadata": {
   "interpreter": {
    "hash": "d0c403077b2524c67f7f8e11f307ce8f438e6a6fa2e4184536d9df58ffd5b860"
   }
  }
 },
 "nbformat": 4,
 "nbformat_minor": 2,
 "cells": [
  {
   "cell_type": "code",
   "execution_count": 26,
   "metadata": {},
   "outputs": [],
   "source": [
    "import pandas as pd"
   ]
  },
  {
   "cell_type": "code",
   "execution_count": 27,
   "metadata": {},
   "outputs": [],
   "source": [
    "cabang = pd.read_excel('D:\\DATA KANTOR\\PKD\\cabangterdampak.xlsx', engine='openpyxl',dtype={'NPWP':'str'})"
   ]
  },
  {
   "cell_type": "code",
   "execution_count": 28,
   "metadata": {},
   "outputs": [],
   "source": [
    "cabang = cabang.drop('NO',axis=1)"
   ]
  },
  {
   "cell_type": "code",
   "execution_count": 29,
   "metadata": {},
   "outputs": [
    {
     "output_type": "execute_result",
     "data": {
      "text/plain": [
       "    NPWP NAMA WAJIB PAJAK KPP LAMA KPP BARU   AR SEKSI\n",
       "894  NaN              NaN      NaN      NaN  NaN   NaN\n",
       "895  NaN              NaN      NaN      NaN  NaN   NaN\n",
       "896  NaN              NaN      NaN      NaN  NaN   NaN\n",
       "897  NaN              NaN      NaN      NaN  NaN   NaN\n",
       "898  NaN              NaN      NaN      NaN  NaN   NaN"
      ],
      "text/html": "<div>\n<style scoped>\n    .dataframe tbody tr th:only-of-type {\n        vertical-align: middle;\n    }\n\n    .dataframe tbody tr th {\n        vertical-align: top;\n    }\n\n    .dataframe thead th {\n        text-align: right;\n    }\n</style>\n<table border=\"1\" class=\"dataframe\">\n  <thead>\n    <tr style=\"text-align: right;\">\n      <th></th>\n      <th>NPWP</th>\n      <th>NAMA WAJIB PAJAK</th>\n      <th>KPP LAMA</th>\n      <th>KPP BARU</th>\n      <th>AR</th>\n      <th>SEKSI</th>\n    </tr>\n  </thead>\n  <tbody>\n    <tr>\n      <th>894</th>\n      <td>NaN</td>\n      <td>NaN</td>\n      <td>NaN</td>\n      <td>NaN</td>\n      <td>NaN</td>\n      <td>NaN</td>\n    </tr>\n    <tr>\n      <th>895</th>\n      <td>NaN</td>\n      <td>NaN</td>\n      <td>NaN</td>\n      <td>NaN</td>\n      <td>NaN</td>\n      <td>NaN</td>\n    </tr>\n    <tr>\n      <th>896</th>\n      <td>NaN</td>\n      <td>NaN</td>\n      <td>NaN</td>\n      <td>NaN</td>\n      <td>NaN</td>\n      <td>NaN</td>\n    </tr>\n    <tr>\n      <th>897</th>\n      <td>NaN</td>\n      <td>NaN</td>\n      <td>NaN</td>\n      <td>NaN</td>\n      <td>NaN</td>\n      <td>NaN</td>\n    </tr>\n    <tr>\n      <th>898</th>\n      <td>NaN</td>\n      <td>NaN</td>\n      <td>NaN</td>\n      <td>NaN</td>\n      <td>NaN</td>\n      <td>NaN</td>\n    </tr>\n  </tbody>\n</table>\n</div>"
     },
     "metadata": {},
     "execution_count": 29
    }
   ],
   "source": [
    "cabang.tail()"
   ]
  },
  {
   "cell_type": "code",
   "execution_count": 30,
   "metadata": {},
   "outputs": [
    {
     "output_type": "stream",
     "name": "stdout",
     "text": [
      "<class 'pandas.core.frame.DataFrame'>\nRangeIndex: 899 entries, 0 to 898\nData columns (total 6 columns):\n #   Column            Non-Null Count  Dtype \n---  ------            --------------  ----- \n 0   NPWP              243 non-null    object\n 1   NAMA WAJIB PAJAK  243 non-null    object\n 2   KPP LAMA          243 non-null    object\n 3   KPP BARU          243 non-null    object\n 4   AR                243 non-null    object\n 5   SEKSI             243 non-null    object\ndtypes: object(6)\nmemory usage: 42.3+ KB\n"
     ]
    }
   ],
   "source": [
    "cabang.info()"
   ]
  },
  {
   "cell_type": "code",
   "execution_count": 34,
   "metadata": {},
   "outputs": [],
   "source": [
    "cabang = cabang.loc[0:244]"
   ]
  },
  {
   "cell_type": "code",
   "execution_count": 35,
   "metadata": {},
   "outputs": [
    {
     "output_type": "execute_result",
     "data": {
      "text/plain": [
       "                NPWP      NAMA WAJIB PAJAK                           KPP LAMA  \\\n",
       "0    013642285007001     ADI CITRA ANGGANA            KPP MADYA JAKARTA TIMUR   \n",
       "1    061887543003999      AGUS SETIAWAN FS     KPP PRATAMA JAKARTA PULOGADUNG   \n",
       "2    015551898007001          AKUR PRATAMA            KPP MADYA JAKARTA TIMUR   \n",
       "3    015551898007002          AKUR PRATAMA            KPP MADYA JAKARTA TIMUR   \n",
       "4    063937494002001     NI NYOMAN HARTATI     KPP PRATAMA JAKARTA JATINEGARA   \n",
       "..               ...                   ...                                ...   \n",
       "239  071642862043001          WIJAYA SURYA  KPP PRATAMA JAKARTA KELAPA GADING   \n",
       "240  071642862015001              LO SILVY          KPP PRATAMA JAKARTA TEBET   \n",
       "241  013692660007002  WIRA GULFINDO SARANA            KPP MADYA JAKARTA TIMUR   \n",
       "242  013692660007001  WIRA GULFINDO SARANA            KPP MADYA JAKARTA TIMUR   \n",
       "243              NaN                   NaN                                NaN   \n",
       "\n",
       "                    KPP BARU                   AR           SEKSI  \n",
       "0    KPP MADYA JAKARTA TIMUR       Donny Setiawan   Pengawasan VI  \n",
       "1    KPP MADYA JAKARTA TIMUR    Novinasari Fanani    Pengawasan V  \n",
       "2    KPP MADYA JAKARTA TIMUR        Muhamad Fatan    Pengawasan V  \n",
       "3    KPP MADYA JAKARTA TIMUR        Muhamad Fatan    Pengawasan V  \n",
       "4    KPP MADYA JAKARTA TIMUR           Robinhot S   Pengawasan IV  \n",
       "..                       ...                  ...             ...  \n",
       "239  KPP MADYA JAKARTA TIMUR         Widy Subiono   Pengawasan II  \n",
       "240  KPP MADYA JAKARTA TIMUR         Widy Subiono   Pengawasan II  \n",
       "241  KPP MADYA JAKARTA TIMUR  DANIEL ALBERT SANTO  Pengawasan III  \n",
       "242  KPP MADYA JAKARTA TIMUR  DANIEL ALBERT SANTO  Pengawasan III  \n",
       "243                      NaN                  NaN             NaN  \n",
       "\n",
       "[244 rows x 6 columns]"
      ],
      "text/html": "<div>\n<style scoped>\n    .dataframe tbody tr th:only-of-type {\n        vertical-align: middle;\n    }\n\n    .dataframe tbody tr th {\n        vertical-align: top;\n    }\n\n    .dataframe thead th {\n        text-align: right;\n    }\n</style>\n<table border=\"1\" class=\"dataframe\">\n  <thead>\n    <tr style=\"text-align: right;\">\n      <th></th>\n      <th>NPWP</th>\n      <th>NAMA WAJIB PAJAK</th>\n      <th>KPP LAMA</th>\n      <th>KPP BARU</th>\n      <th>AR</th>\n      <th>SEKSI</th>\n    </tr>\n  </thead>\n  <tbody>\n    <tr>\n      <th>0</th>\n      <td>013642285007001</td>\n      <td>ADI CITRA ANGGANA</td>\n      <td>KPP MADYA JAKARTA TIMUR</td>\n      <td>KPP MADYA JAKARTA TIMUR</td>\n      <td>Donny Setiawan</td>\n      <td>Pengawasan VI</td>\n    </tr>\n    <tr>\n      <th>1</th>\n      <td>061887543003999</td>\n      <td>AGUS SETIAWAN FS</td>\n      <td>KPP PRATAMA JAKARTA PULOGADUNG</td>\n      <td>KPP MADYA JAKARTA TIMUR</td>\n      <td>Novinasari Fanani</td>\n      <td>Pengawasan V</td>\n    </tr>\n    <tr>\n      <th>2</th>\n      <td>015551898007001</td>\n      <td>AKUR PRATAMA</td>\n      <td>KPP MADYA JAKARTA TIMUR</td>\n      <td>KPP MADYA JAKARTA TIMUR</td>\n      <td>Muhamad Fatan</td>\n      <td>Pengawasan V</td>\n    </tr>\n    <tr>\n      <th>3</th>\n      <td>015551898007002</td>\n      <td>AKUR PRATAMA</td>\n      <td>KPP MADYA JAKARTA TIMUR</td>\n      <td>KPP MADYA JAKARTA TIMUR</td>\n      <td>Muhamad Fatan</td>\n      <td>Pengawasan V</td>\n    </tr>\n    <tr>\n      <th>4</th>\n      <td>063937494002001</td>\n      <td>NI NYOMAN HARTATI</td>\n      <td>KPP PRATAMA JAKARTA JATINEGARA</td>\n      <td>KPP MADYA JAKARTA TIMUR</td>\n      <td>Robinhot S</td>\n      <td>Pengawasan IV</td>\n    </tr>\n    <tr>\n      <th>...</th>\n      <td>...</td>\n      <td>...</td>\n      <td>...</td>\n      <td>...</td>\n      <td>...</td>\n      <td>...</td>\n    </tr>\n    <tr>\n      <th>239</th>\n      <td>071642862043001</td>\n      <td>WIJAYA SURYA</td>\n      <td>KPP PRATAMA JAKARTA KELAPA GADING</td>\n      <td>KPP MADYA JAKARTA TIMUR</td>\n      <td>Widy Subiono</td>\n      <td>Pengawasan II</td>\n    </tr>\n    <tr>\n      <th>240</th>\n      <td>071642862015001</td>\n      <td>LO SILVY</td>\n      <td>KPP PRATAMA JAKARTA TEBET</td>\n      <td>KPP MADYA JAKARTA TIMUR</td>\n      <td>Widy Subiono</td>\n      <td>Pengawasan II</td>\n    </tr>\n    <tr>\n      <th>241</th>\n      <td>013692660007002</td>\n      <td>WIRA GULFINDO SARANA</td>\n      <td>KPP MADYA JAKARTA TIMUR</td>\n      <td>KPP MADYA JAKARTA TIMUR</td>\n      <td>DANIEL ALBERT SANTO</td>\n      <td>Pengawasan III</td>\n    </tr>\n    <tr>\n      <th>242</th>\n      <td>013692660007001</td>\n      <td>WIRA GULFINDO SARANA</td>\n      <td>KPP MADYA JAKARTA TIMUR</td>\n      <td>KPP MADYA JAKARTA TIMUR</td>\n      <td>DANIEL ALBERT SANTO</td>\n      <td>Pengawasan III</td>\n    </tr>\n    <tr>\n      <th>243</th>\n      <td>NaN</td>\n      <td>NaN</td>\n      <td>NaN</td>\n      <td>NaN</td>\n      <td>NaN</td>\n      <td>NaN</td>\n    </tr>\n  </tbody>\n</table>\n<p>244 rows × 6 columns</p>\n</div>"
     },
     "metadata": {},
     "execution_count": 35
    }
   ],
   "source": [
    "cabang"
   ]
  },
  {
   "cell_type": "code",
   "execution_count": null,
   "metadata": {},
   "outputs": [],
   "source": []
  }
 ]
}