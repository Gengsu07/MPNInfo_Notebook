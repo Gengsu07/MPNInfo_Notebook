{
 "metadata": {
  "language_info": {
   "codemirror_mode": {
    "name": "ipython",
    "version": 3
   },
   "file_extension": ".py",
   "mimetype": "text/x-python",
   "name": "python",
   "nbconvert_exporter": "python",
   "pygments_lexer": "ipython3",
   "version": "3.9.0"
  },
  "orig_nbformat": 2,
  "kernelspec": {
   "name": "python390jvsc74a57bd0d0c403077b2524c67f7f8e11f307ce8f438e6a6fa2e4184536d9df58ffd5b860",
   "display_name": "Python 3.9.0 64-bit"
  },
  "metadata": {
   "interpreter": {
    "hash": "d0c403077b2524c67f7f8e11f307ce8f438e6a6fa2e4184536d9df58ffd5b860"
   }
  }
 },
 "nbformat": 4,
 "nbformat_minor": 2,
 "cells": [
  {
   "cell_type": "code",
   "execution_count": 19,
   "metadata": {},
   "outputs": [],
   "source": [
    "import pandas as pd \n",
    "import glob\n",
    "import openpyxl\n",
    "import os"
   ]
  },
  {
   "cell_type": "code",
   "execution_count": 20,
   "metadata": {},
   "outputs": [
    {
     "output_type": "stream",
     "name": "stdout",
     "text": [
      "['E:/NADINE/JAWABAN/jwb\\\\jwb_Cemput_wp-pindah-madya-jaktim.xlsx', 'E:/NADINE/JAWABAN/jwb\\\\jwb_KB3_WP-KELUAR-064-MADYA-JAKTIM.xlsx', 'E:/NADINE/JAWABAN/jwb\\\\jwb_Madsel1_madya-jaktim.xlsx', 'E:/NADINE/JAWABAN/jwb\\\\jwb_Madut_Permintaan data Madya Timur.xlsx', 'E:/NADINE/JAWABAN/jwb\\\\jwb_mensa_Lamp_Permintaan-Data-Masterfile-dan-Penerimaan-Pajak-atas-Wajib-Pajak-Pindah.xlsx', 'E:/NADINE/JAWABAN/jwb\\\\jwb_Permintaan-Data-Masterfile-dan-Penerimaan-Pajak-atas-Wajib-Pajak-Pindah.xlsx', 'E:/NADINE/JAWABAN/jwb\\\\jwb_sabersa_Lamp_Permintaan-Data-Masterfile-dan-Penerimaan-Pajak-atas-Wajib-Pajak-Pindah.xlsx', 'E:/NADINE/JAWABAN/jwb\\\\jwb_Senen_Lampiran-WP-Pindah-Madya-Jakarta-Timur-KIRIM.xlsx', 'E:/NADINE/JAWABAN/jwb\\\\jwb_serpong_Lamp_Permintaan-Data-Masterfile-dan-Penerimaan-Pajak-atas-Wajib-Pajak-Pindah.xlsx', 'E:/NADINE/JAWABAN/jwb\\\\jwb_Tebet_Jawaban_ND_1059.xlsx']\n"
     ]
    }
   ],
   "source": [
    "file = glob.glob(\"E:/NADINE/JAWABAN/jwb/*.xlsx\")\n",
    "print(file)"
   ]
  },
  {
   "cell_type": "code",
   "execution_count": 21,
   "metadata": {},
   "outputs": [],
   "source": [
    "data = pd.DataFrame()\n",
    "for item in file:\n",
    "    df = pd.read_excel(item, engine='openpyxl', sheet_name='MPN', usecols=['NPWP','NAMA','KDMAP','KDBAYAR','TGLBAYAR','NOMINAL','NTPN'],parse_dates=['TGLBAYAR'])\n",
    "    data = pd.concat([data,df], ignore_index=True)"
   ]
  },
  {
   "cell_type": "code",
   "execution_count": null,
   "metadata": {},
   "outputs": [],
   "source": [
    "data.KDMAP = data.KDMAP.astype(str)\n",
    "data.KDBAYAR = data.KDBAYAR.astype(str)\n",
    "data.dtypes"
   ]
  },
  {
   "cell_type": "code",
   "execution_count": 22,
   "metadata": {},
   "outputs": [
    {
     "output_type": "error",
     "ename": "TypeError",
     "evalue": "sort_values() got an unexpected keyword argument 'by'",
     "traceback": [
      "\u001b[1;31m---------------------------------------------------------------------------\u001b[0m",
      "\u001b[1;31mTypeError\u001b[0m                                 Traceback (most recent call last)",
      "\u001b[1;32m<ipython-input-22-1819bf6c6fc5>\u001b[0m in \u001b[0;36m<module>\u001b[1;34m\u001b[0m\n\u001b[1;32m----> 1\u001b[1;33m \u001b[0mdata\u001b[0m\u001b[1;33m.\u001b[0m\u001b[0mgroupby\u001b[0m\u001b[1;33m(\u001b[0m\u001b[1;34m'KDMAP'\u001b[0m\u001b[1;33m)\u001b[0m\u001b[1;33m[\u001b[0m\u001b[1;34m'NOMINAL'\u001b[0m\u001b[1;33m]\u001b[0m\u001b[1;33m.\u001b[0m\u001b[0msum\u001b[0m\u001b[1;33m(\u001b[0m\u001b[1;33m)\u001b[0m\u001b[1;33m.\u001b[0m\u001b[0msort_values\u001b[0m\u001b[1;33m(\u001b[0m\u001b[0mby\u001b[0m\u001b[1;33m=\u001b[0m\u001b[1;33m[\u001b[0m\u001b[1;34m'NOMINAL'\u001b[0m\u001b[1;33m]\u001b[0m\u001b[1;33m)\u001b[0m\u001b[1;33m\u001b[0m\u001b[1;33m\u001b[0m\u001b[0m\n\u001b[0m",
      "\u001b[1;31mTypeError\u001b[0m: sort_values() got an unexpected keyword argument 'by'"
     ]
    }
   ],
   "source": [
    "data.groupby('KDMAP')['NOMINAL'].sum().sort_values(by=['NOMINAL'])"
   ]
  },
  {
   "cell_type": "code",
   "execution_count": 18,
   "metadata": {},
   "outputs": [],
   "source": [
    "#data.to_excel('E:/NADINE/JAWABAN/coba1.xlsx')"
   ]
  },
  {
   "cell_type": "code",
   "execution_count": 80,
   "metadata": {},
   "outputs": [],
   "source": [
    "#cek = pd.read_excel('E:/NADINE/JAWABAN/jwb/jwb_Cemput_wp-pindah-madya-jaktim.xlsx', engine='openpyxl',sheet_name = 'MPN')"
   ]
  },
  {
   "cell_type": "code",
   "execution_count": null,
   "metadata": {},
   "outputs": [],
   "source": []
  }
 ]
}