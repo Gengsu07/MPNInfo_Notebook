{
 "metadata": {
  "language_info": {
   "codemirror_mode": {
    "name": "ipython",
    "version": 3
   },
   "file_extension": ".py",
   "mimetype": "text/x-python",
   "name": "python",
   "nbconvert_exporter": "python",
   "pygments_lexer": "ipython3",
   "version": "3.9.0"
  },
  "orig_nbformat": 2,
  "kernelspec": {
   "name": "python390jvsc74a57bd0d0c403077b2524c67f7f8e11f307ce8f438e6a6fa2e4184536d9df58ffd5b860",
   "display_name": "Python 3.9.0 64-bit"
  },
  "metadata": {
   "interpreter": {
    "hash": "d0c403077b2524c67f7f8e11f307ce8f438e6a6fa2e4184536d9df58ffd5b860"
   }
  }
 },
 "nbformat": 4,
 "nbformat_minor": 2,
 "cells": [
  {
   "cell_type": "code",
   "execution_count": 1,
   "metadata": {},
   "outputs": [],
   "source": [
    "import pandas as pd \n",
    "import glob\n",
    "import openpyxl\n",
    "import os"
   ]
  },
  {
   "cell_type": "code",
   "execution_count": 2,
   "metadata": {},
   "outputs": [
    {
     "output_type": "stream",
     "name": "stdout",
     "text": [
      "['E:/NADINE/JAWABAN/jwb\\\\jwb_Cemput_wp-pindah-madya-jaktim.xlsx', 'E:/NADINE/JAWABAN/jwb\\\\jwb_KB3_WP-KELUAR-064-MADYA-JAKTIM.xlsx', 'E:/NADINE/JAWABAN/jwb\\\\jwb_Madsel1_madya-jaktim.xlsx', 'E:/NADINE/JAWABAN/jwb\\\\jwb_Madut_Permintaan data Madya Timur.xlsx', 'E:/NADINE/JAWABAN/jwb\\\\jwb_mensa_Lamp_Permintaan-Data-Masterfile-dan-Penerimaan-Pajak-atas-Wajib-Pajak-Pindah.xlsx', 'E:/NADINE/JAWABAN/jwb\\\\jwb_Permintaan-Data-Masterfile-dan-Penerimaan-Pajak-atas-Wajib-Pajak-Pindah.xlsx', 'E:/NADINE/JAWABAN/jwb\\\\jwb_sabersa_Lamp_Permintaan-Data-Masterfile-dan-Penerimaan-Pajak-atas-Wajib-Pajak-Pindah.xlsx', 'E:/NADINE/JAWABAN/jwb\\\\jwb_Senen_Lampiran-WP-Pindah-Madya-Jakarta-Timur-KIRIM.xlsx', 'E:/NADINE/JAWABAN/jwb\\\\jwb_serpong_Lamp_Permintaan-Data-Masterfile-dan-Penerimaan-Pajak-atas-Wajib-Pajak-Pindah.xlsx', 'E:/NADINE/JAWABAN/jwb\\\\jwb_Tebet_Jawaban_ND_1059.xlsx']\n"
     ]
    }
   ],
   "source": [
    "file = glob.glob(\"E:/NADINE/JAWABAN/jwb/*.xlsx\")\n",
    "print(file)"
   ]
  },
  {
   "cell_type": "code",
   "execution_count": 3,
   "metadata": {},
   "outputs": [],
   "source": [
    "data = pd.DataFrame()\n",
    "for item in file:\n",
    "    df = pd.read_excel(item, engine='openpyxl', sheet_name='SPMKP', usecols=['NPWP','NAMA','KD MAP','BULAN','TAHUN','NOMINAL'])\n",
    "    data = pd.concat([data,df], ignore_index=True)"
   ]
  },
  {
   "cell_type": "code",
   "execution_count": 12,
   "metadata": {},
   "outputs": [],
   "source": [
    "data.NOMINAL = data.NOMINAL.str.strip()\n",
    "data.NOMINAL = data.NOMINAL.str.replace(',','')"
   ]
  },
  {
   "source": [
    "data['KD MAP'] = data['KD MAP'].astype(str)\n",
    "data['NPWP'] = data['NPWP'].astype(str)\n",
    "data['BULAN'] = data['BULAN'].astype(str)\n",
    "data['TAHUN'] = data['TAHUN'].astype(str)\n",
    "data['NOMINAL'] = data['NOMINAL'].astype(float)\n",
    "data.dtypes\n"
   ],
   "cell_type": "code",
   "metadata": {},
   "execution_count": 13,
   "outputs": [
    {
     "output_type": "execute_result",
     "data": {
      "text/plain": [
       "NPWP        object\n",
       "NAMA        object\n",
       "KD MAP      object\n",
       "BULAN       object\n",
       "TAHUN       object\n",
       "NOMINAL    float64\n",
       "dtype: object"
      ]
     },
     "metadata": {},
     "execution_count": 13
    }
   ]
  },
  {
   "cell_type": "code",
   "execution_count": 14,
   "metadata": {},
   "outputs": [],
   "source": [
    "data.to_excel('E:/NADINE/JAWABAN/WPMASUK_SPMKP.xlsx',index=False)"
   ]
  },
  {
   "cell_type": "code",
   "execution_count": null,
   "metadata": {},
   "outputs": [],
   "source": []
  }
 ]
}