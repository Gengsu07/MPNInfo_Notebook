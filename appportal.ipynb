{
 "metadata": {
  "language_info": {
   "codemirror_mode": {
    "name": "ipython",
    "version": 3
   },
   "file_extension": ".py",
   "mimetype": "text/x-python",
   "name": "python",
   "nbconvert_exporter": "python",
   "pygments_lexer": "ipython3",
   "version": "3.8.5"
  },
  "orig_nbformat": 4,
  "kernelspec": {
   "name": "python3",
   "display_name": "Python 3.8.5 64-bit ('base': conda)"
  },
  "interpreter": {
   "hash": "b3ba2566441a7c06988d0923437866b63cedc61552a5af99d1f4fb67d367b25f"
  }
 },
 "nbformat": 4,
 "nbformat_minor": 2,
 "cells": [
  {
   "cell_type": "code",
   "execution_count": 196,
   "metadata": {},
   "outputs": [],
   "source": [
    "import requests\n",
    "import pandas as pd\n",
    "from bs4 import BeautifulSoup\n",
    "from selenium import webdriver\n",
    "from selenium.webdriver.common.keys import Keys"
   ]
  },
  {
   "cell_type": "code",
   "execution_count": 194,
   "metadata": {},
   "outputs": [],
   "source": [
    "driver = webdriver.Chrome(executable_path=\"F:\\JUPYTER NOTEBOOK\\chromedriver.exe\")\n",
    "driver.get('https://approweb.intranet.pajak.go.id/')\n",
    "driver.find_element_by_xpath('//*[@id=\"LoginForm_ip\"]').send_keys('958630731')\n",
    "driver.find_element_by_xpath('//*[@id=\"LoginForm_kataSandi\"]').send_keys('LaTahzan7')\n",
    "driver.find_element_by_xpath('//*[@id=\"yw0\"]/div[5]/button').click()"
   ]
  },
  {
   "cell_type": "code",
   "execution_count": 198,
   "metadata": {},
   "outputs": [],
   "source": [
    "x = driver.get('https://approweb.intranet.pajak.go.id/index.php?r=pengawasan/sp2dk&Sp2dkFormModel%5Bjnsperiode%5D=0&Sp2dkFormModel%5Bawal%5D=Januari+2021&Sp2dkFormModel%5Bakhir%5D=Juli+2021&Sp2dkFormModel%5Bunit%5D=0&Sp2dkFormModel%5Btipe%5D=3&Sp2dkFormModel%5Bkwl%5D=110&Sp2dkFormModel%5Bkpp%5D=007&Sp2dkFormModel%5Bawp%5D=0')"
   ]
  },
  {
   "cell_type": "code",
   "execution_count": 202,
   "metadata": {},
   "outputs": [
    {
     "output_type": "error",
     "ename": "SyntaxError",
     "evalue": "invalid syntax (<ipython-input-202-61eeea34ed39>, line 1)",
     "traceback": [
      "\u001b[1;36m  File \u001b[1;32m\"<ipython-input-202-61eeea34ed39>\"\u001b[1;36m, line \u001b[1;32m1\u001b[0m\n\u001b[1;33m    driver.find_element_by_tag_name({'role'='row'})\u001b[0m\n\u001b[1;37m                                           ^\u001b[0m\n\u001b[1;31mSyntaxError\u001b[0m\u001b[1;31m:\u001b[0m invalid syntax\n"
     ]
    }
   ],
   "source": [
    "driver.find_element_by_tag_name({'role'='row'})"
   ]
  },
  {
   "cell_type": "code",
   "execution_count": 164,
   "metadata": {},
   "outputs": [
    {
     "output_type": "execute_result",
     "data": {
      "text/plain": [
       "\"driver.find_element_by_name('LoginForm[ip]').click()\\ndriver.find_element_by_name('LoginForm[ip]').send_keys = '810202558'\\npassword = driver.find_element_by_name('LoginForm[kataSandi]')\\npassword.clear()\\npassword.click()\\npassword.send_keys = 'Sgwi234!'\\n\""
      ]
     },
     "metadata": {},
     "execution_count": 164
    }
   ],
   "source": [
    "'''driver.find_element_by_name('LoginForm[ip]').click()\n",
    "driver.find_element_by_name('LoginForm[ip]').send_keys = '810202558'\n",
    "password = driver.find_element_by_name('LoginForm[kataSandi]')\n",
    "password.clear()\n",
    "password.click()\n",
    "password.send_keys = 'Sgwi234!'\n",
    "'''"
   ]
  },
  {
   "cell_type": "code",
   "execution_count": null,
   "metadata": {},
   "outputs": [],
   "source": []
  }
 ]
}