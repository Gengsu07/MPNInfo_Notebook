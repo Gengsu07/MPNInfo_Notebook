{
 "cells": [
  {
   "cell_type": "code",
   "execution_count": 2,
   "metadata": {},
   "outputs": [],
   "source": [
    "import pandas as pd"
   ]
  },
  {
   "cell_type": "code",
   "execution_count": 8,
   "metadata": {},
   "outputs": [],
   "source": [
    "data = pd.read_csv(r'D:\\DATA KANTOR\\SQL\\13122021_PPMPKM.csv',sep=',', dtype={'nosk':'str','NPWP':'str','KPP':'str','CABANG':'str'})"
   ]
  },
  {
   "cell_type": "code",
   "execution_count": 9,
   "metadata": {},
   "outputs": [],
   "source": [
    "data = data[data['BULANBAYAR']==12]\n",
    "data['NPWP_FULL'] = data.NPWP+data.KPP+data.CABANG\n",
    "ppm = data[data['FLAG_PPM_PKM']=='PPM']\n",
    "pkm = data[data['FLAG_PPM_PKM']=='PKM']"
   ]
  },
  {
   "cell_type": "code",
   "execution_count": 10,
   "metadata": {},
   "outputs": [
    {
     "name": "stderr",
     "output_type": "stream",
     "text": [
      "<ipython-input-10-9a960c5d97bd>:1: SettingWithCopyWarning: \n",
      "A value is trying to be set on a copy of a slice from a DataFrame.\n",
      "Try using .loc[row_indexer,col_indexer] = value instead\n",
      "\n",
      "See the caveats in the documentation: https://pandas.pydata.org/pandas-docs/stable/user_guide/indexing.html#returning-a-view-versus-a-copy\n",
      "  pkm['nosk'] = pkm['nosk'].replace('-','')\n",
      "<ipython-input-10-9a960c5d97bd>:2: SettingWithCopyWarning: \n",
      "A value is trying to be set on a copy of a slice from a DataFrame.\n",
      "Try using .loc[row_indexer,col_indexer] = value instead\n",
      "\n",
      "See the caveats in the documentation: https://pandas.pydata.org/pandas-docs/stable/user_guide/indexing.html#returning-a-view-versus-a-copy\n",
      "  pkm['nosk'] = pkm['nosk'].replace('tidak diketahui','')\n"
     ]
    }
   ],
   "source": [
    "pkm['nosk'] = pkm['nosk'].replace('-','')\n",
    "pkm['nosk'] = pkm['nosk'].replace('tidak diketahui','')"
   ]
  },
  {
   "cell_type": "code",
   "execution_count": 11,
   "metadata": {},
   "outputs": [
    {
     "name": "stderr",
     "output_type": "stream",
     "text": [
      "<ipython-input-11-f8d01815a471>:2: SettingWithCopyWarning: \n",
      "A value is trying to be set on a copy of a slice from a DataFrame.\n",
      "Try using .loc[row_indexer,col_indexer] = value instead\n",
      "\n",
      "See the caveats in the documentation: https://pandas.pydata.org/pandas-docs/stable/user_guide/indexing.html#returning-a-view-versus-a-copy\n",
      "  pengawasan['Jenis'] ='Pengawasan'\n"
     ]
    }
   ],
   "source": [
    "pengawasan = pkm[pkm['nosk'].isnull()]\n",
    "pengawasan['Jenis'] ='Pengawasan'"
   ]
  },
  {
   "cell_type": "code",
   "execution_count": 12,
   "metadata": {},
   "outputs": [],
   "source": [
    "p2 = pkm[pkm['nosk'].notnull()]"
   ]
  },
  {
   "cell_type": "code",
   "execution_count": 13,
   "metadata": {},
   "outputs": [
    {
     "name": "stderr",
     "output_type": "stream",
     "text": [
      "<ipython-input-13-5b19ada81123>:1: SettingWithCopyWarning: \n",
      "A value is trying to be set on a copy of a slice from a DataFrame.\n",
      "Try using .loc[row_indexer,col_indexer] = value instead\n",
      "\n",
      "See the caveats in the documentation: https://pandas.pydata.org/pandas-docs/stable/user_guide/indexing.html#returning-a-view-versus-a-copy\n",
      "  p2['Jenis'] = p2['nosk'].apply(lambda x:'Pemeriksaan' if x[-2:]=='21' else 'Penagihan')\n"
     ]
    }
   ],
   "source": [
    "p2['Jenis'] = p2['nosk'].apply(lambda x:'Pemeriksaan' if x[-2:]=='21' else 'Penagihan')"
   ]
  },
  {
   "cell_type": "code",
   "execution_count": 14,
   "metadata": {},
   "outputs": [
    {
     "data": {
      "text/plain": [
       "Penagihan      238\n",
       "Pemeriksaan    167\n",
       "Name: Jenis, dtype: int64"
      ]
     },
     "execution_count": 14,
     "metadata": {},
     "output_type": "execute_result"
    }
   ],
   "source": [
    "p2.Jenis.value_counts()"
   ]
  },
  {
   "cell_type": "code",
   "execution_count": 15,
   "metadata": {},
   "outputs": [
    {
     "name": "stderr",
     "output_type": "stream",
     "text": [
      "<ipython-input-15-9d35d00a8f6d>:1: SettingWithCopyWarning: \n",
      "A value is trying to be set on a copy of a slice from a DataFrame.\n",
      "Try using .loc[row_indexer,col_indexer] = value instead\n",
      "\n",
      "See the caveats in the documentation: https://pandas.pydata.org/pandas-docs/stable/user_guide/indexing.html#returning-a-view-versus-a-copy\n",
      "  ppm['Jenis'] = 'Rutin'\n"
     ]
    }
   ],
   "source": [
    "ppm['Jenis'] = 'Rutin'"
   ]
  },
  {
   "cell_type": "code",
   "execution_count": 16,
   "metadata": {},
   "outputs": [],
   "source": [
    "gabung = p2.append(pengawasan)\n",
    "gabung = gabung.append(ppm)"
   ]
  },
  {
   "cell_type": "code",
   "execution_count": 17,
   "metadata": {},
   "outputs": [
    {
     "data": {
      "text/plain": [
       "Rutin          11000\n",
       "Penagihan        238\n",
       "Pengawasan       230\n",
       "Pemeriksaan      167\n",
       "Name: Jenis, dtype: int64"
      ]
     },
     "execution_count": 17,
     "metadata": {},
     "output_type": "execute_result"
    }
   ],
   "source": [
    "gabung.Jenis.value_counts()"
   ]
  },
  {
   "cell_type": "code",
   "execution_count": null,
   "metadata": {},
   "outputs": [],
   "source": [
    "gabung.to_excel('D:\\DATA KANTOR\\SQL\\Desember.xlsx',index=False, engine='openpyxl')"
   ]
  },
  {
   "cell_type": "code",
   "execution_count": null,
   "metadata": {},
   "outputs": [],
   "source": [
    "gabung['Jenis'].value_counts()"
   ]
  },
  {
   "cell_type": "code",
   "execution_count": 186,
   "metadata": {},
   "outputs": [],
   "source": [
    "prk = gabung[gabung['Jenis']=='Pemeriksaan']\n",
    "prk = prk.groupby(['NPWP_FULL','NAMA']).sum().reset_index()"
   ]
  },
  {
   "cell_type": "code",
   "execution_count": 189,
   "metadata": {},
   "outputs": [],
   "source": [
    "prk.to_clipboard(sep='|')"
   ]
  },
  {
   "cell_type": "code",
   "execution_count": 182,
   "metadata": {},
   "outputs": [],
   "source": [
    "slice = gabung.filter(['NPWP_FULL','NOMINAL','Jenis'])\n",
    "for jenis in slice['Jenis'].unique():\n",
    "    temp = slice[slice['Jenis']==jenis]\n",
    "    temp = temp.groupby('NPWP_FULL').sum()\n",
    "    temp.to_excel('{}.xlsx'.format(jenis),index='False')\n",
    "    \n"
   ]
  },
  {
   "cell_type": "code",
   "execution_count": null,
   "metadata": {},
   "outputs": [],
   "source": [
    "slice = gabung.filter(['NPWP_FULL','NOMINAL','Jenis'])\n",
    "rutin = slice[slice['Jenis']=='Rutin']\n",
    "rutin = rutin.groupby('NPWP_FULL').sum().reset_index()\n",
    "rutin.to_excel('Rutin.xlsx',index=False,engine='openpyxl')\n",
    "\n",
    "pemeriksaan = slice[slice['Jenis']=='Pemeriksaan']\n",
    "pemeriksaan = pemeriksaan.groupby('NPWP_FULL').sum().reset_index()\n",
    "pemeriksaan.to_excel('Pemeriksaan.xlsx',index=False,engine='openpyxl')\n",
    "\n",
    "penagihan = slice[slice['Jenis']=='Penagihan']\n",
    "penagihan = penagihan.groupby('NPWP_FULL').sum().reset_index()\n",
    "penagihan.to_excel('Penagihan.xlsx',index=False,engine='openpyxl')\n",
    "\n",
    "pengawasan = slice[slice['Jenis']=='Pengawasan']\n",
    "pengawasan = pengawasan.groupby('NPWP_FULL').sum().reset_index()\n",
    "pengawasan.to_excel('Pengawasan.xlsx',index=False,engine='openpyxl')"
   ]
  },
  {
   "cell_type": "code",
   "execution_count": 191,
   "metadata": {},
   "outputs": [],
   "source": [
    "import mysql.connector as mysql"
   ]
  },
  {
   "cell_type": "code",
   "execution_count": 193,
   "metadata": {},
   "outputs": [],
   "source": [
    "db_conn = mysql.connect(host = '10.4.19.15', user = 'indra', password= 'indra',\n",
    "database = 'mpninfo',port = '3306')\n",
    "with open(r'F:\\STREAMLIT\\DASHTEAM\\sql\\mpnspmpbkspmkp.sql','r') as query:\n",
    "    penerimaan = query.read()\n",
    "data = pd.read_sql(penerimaan,db_conn)"
   ]
  },
  {
   "cell_type": "code",
   "execution_count": 216,
   "metadata": {},
   "outputs": [],
   "source": [
    "data = data[data['bulanbayar']==10]"
   ]
  },
  {
   "cell_type": "code",
   "execution_count": 217,
   "metadata": {},
   "outputs": [],
   "source": [
    "spmkp = data[data['ket']=='SPMKP']"
   ]
  },
  {
   "cell_type": "code",
   "execution_count": 218,
   "metadata": {},
   "outputs": [
    {
     "data": {
      "text/plain": [
       "Index(['NPWP_FULL', 'nama', 'kdmap', 'kdbayar', 'masa', 'tahun',\n",
       "       'tanggalbayar', 'bulanbayar', 'tahunbayar', 'datebayar', 'nominal',\n",
       "       'ntpn', 'bank', 'nosk', 'nospm', 'tipe', 'source', 'extra', 'billing',\n",
       "       'nop', 'pembuat', 'ket'],\n",
       "      dtype='object')"
      ]
     },
     "execution_count": 218,
     "metadata": {},
     "output_type": "execute_result"
    }
   ],
   "source": [
    "spmkp.columns"
   ]
  },
  {
   "cell_type": "code",
   "execution_count": 221,
   "metadata": {},
   "outputs": [],
   "source": [
    "spmkp = spmkp.filter(['NPWP_FULL','nominal','nama'])\n",
    "spmkp = spmkp.groupby('NPWP_FULL').sum().reset_index()"
   ]
  },
  {
   "cell_type": "code",
   "execution_count": 225,
   "metadata": {},
   "outputs": [],
   "source": [
    "spmkp.to_clipboard(sep='|')"
   ]
  },
  {
   "cell_type": "code",
   "execution_count": null,
   "metadata": {},
   "outputs": [],
   "source": []
  }
 ],
 "metadata": {
  "interpreter": {
   "hash": "b3ba2566441a7c06988d0923437866b63cedc61552a5af99d1f4fb67d367b25f"
  },
  "kernelspec": {
   "display_name": "Python 3.8.8 64-bit ('base': conda)",
   "name": "python3"
  },
  "language_info": {
   "codemirror_mode": {
    "name": "ipython",
    "version": 3
   },
   "file_extension": ".py",
   "mimetype": "text/x-python",
   "name": "python",
   "nbconvert_exporter": "python",
   "pygments_lexer": "ipython3",
   "version": "3.8.8"
  },
  "orig_nbformat": 4
 },
 "nbformat": 4,
 "nbformat_minor": 2
}
