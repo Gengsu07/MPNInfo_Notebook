{
 "cells": [
  {
   "cell_type": "code",
   "execution_count": 163,
   "source": [
    "import pandas as pd\r\n",
    "from bs4 import BeautifulSoup\r\n",
    "import os"
   ],
   "outputs": [],
   "metadata": {}
  },
  {
   "cell_type": "code",
   "execution_count": 164,
   "source": [
    "folder = os.chdir(r'D:\\DATA KANTOR\\APPROWEB\\DATA PEMICU\\13 September2021\\Global')\r\n",
    "files = os.listdir(folder)"
   ],
   "outputs": [],
   "metadata": {}
  },
  {
   "cell_type": "code",
   "execution_count": 165,
   "source": [
    "#buat dataframe kosong\r\n",
    "header = ['Seksi','Jumlah_Belum Ditindaklanjuti','Nilai_Belum Ditindaklanjuti','Jumlah_Ditindaklanjuti',\r\n",
    "'Nilai_Ditindaklanjuti','Jumlah_Ditindaklanjuti Wajib Pajak','Nilai_Ditindaklanjuti Wajib Pajak','Jumlah','Nilai','Tahun']\r\n",
    "data = pd.DataFrame(columns=header)\r\n",
    "for file in files:\r\n",
    "    if (file.endswith('html')) and (file != 'Semua Tahun.html'):\r\n",
    "        web = open(file,'r')\r\n",
    "        html = web.read()\r\n",
    "        soup = BeautifulSoup(html,'html.parser')\r\n",
    "        tabel =soup.find('table',{'id':'tbdatpem'})\r\n",
    "        tbody = tabel.tbody\r\n",
    "        \r\n",
    "        # Extract data\r\n",
    "        for t in tbody.find_all('tr'):\r\n",
    "            row_data = [x.text for x in t.find_all('td')[1:]]\r\n",
    "            row_data.insert(9,file[:4])\r\n",
    "            lenght = len(data)\r\n",
    "            data.loc[lenght] = row_data\r\n",
    "\r\n",
    "for kolom in data.columns:\r\n",
    "    data[kolom] = data[kolom].str.replace('.','')\r\n",
    "for kolom in data.columns[1:]:\r\n",
    "    data[kolom] = data[kolom].astype('int64')\r\n"
   ],
   "outputs": [],
   "metadata": {}
  },
  {
   "cell_type": "code",
   "execution_count": null,
   "source": [],
   "outputs": [],
   "metadata": {}
  }
 ],
 "metadata": {
  "orig_nbformat": 4,
  "language_info": {
   "name": "python",
   "version": "3.8.11",
   "mimetype": "text/x-python",
   "codemirror_mode": {
    "name": "ipython",
    "version": 3
   },
   "pygments_lexer": "ipython3",
   "nbconvert_exporter": "python",
   "file_extension": ".py"
  },
  "kernelspec": {
   "name": "python3",
   "display_name": "Python 3.8.11 64-bit ('base': conda)"
  },
  "interpreter": {
   "hash": "b3ba2566441a7c06988d0923437866b63cedc61552a5af99d1f4fb67d367b25f"
  }
 },
 "nbformat": 4,
 "nbformat_minor": 2
}