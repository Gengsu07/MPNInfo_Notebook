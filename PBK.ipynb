{
 "metadata": {
  "language_info": {
   "codemirror_mode": {
    "name": "ipython",
    "version": 3
   },
   "file_extension": ".py",
   "mimetype": "text/x-python",
   "name": "python",
   "nbconvert_exporter": "python",
   "pygments_lexer": "ipython3",
   "version": "3.9.0"
  },
  "orig_nbformat": 2,
  "kernelspec": {
   "name": "python390jvsc74a57bd0d0c403077b2524c67f7f8e11f307ce8f438e6a6fa2e4184536d9df58ffd5b860",
   "display_name": "Python 3.9.0 64-bit"
  },
  "metadata": {
   "interpreter": {
    "hash": "d0c403077b2524c67f7f8e11f307ce8f438e6a6fa2e4184536d9df58ffd5b860"
   }
  }
 },
 "nbformat": 4,
 "nbformat_minor": 2,
 "cells": [
  {
   "cell_type": "code",
   "execution_count": null,
   "metadata": {},
   "outputs": [],
   "source": [
    "import pandas as pd\n",
    "import matplotlib.pyplot as plt\n",
    "import seaborn as sb\n",
    "import mysql.connector as mysql\n",
    "from pandas_profiling import ProfileReport"
   ]
  },
  {
   "cell_type": "code",
   "execution_count": 384,
   "metadata": {},
   "outputs": [],
   "source": [
    "db_connection = mysql.connect(host = \"10.4.19.15\", \n",
    "                            database = 'mpninfo', \n",
    "                            user = 'indra', \n",
    "                            password= 'indra', \n",
    "                            port = 3306)"
   ]
  },
  {
   "cell_type": "code",
   "execution_count": 385,
   "metadata": {},
   "outputs": [],
   "source": [
    "mfwp = pd.read_csv('D:\\DATA KANTOR\\MASTERFILE\\MFWP_AR_baru.csv',sep=';', dtype={'NPWP FULL':'str','Kode KLU':'str'}) \n",
    "map = pd.read_excel('D:\\DATA KANTOR\\MASTERFILE\\KODE_MAP_FILTERED.xlsx', engine='openpyxl', dtype={'KD MAP':'str'})"
   ]
  },
  {
   "cell_type": "code",
   "execution_count": 386,
   "metadata": {},
   "outputs": [],
   "source": [
    "query = '''\n",
    "select concat(npwp, kpp,cabang) as NPWP_KIRIM,nama as NAMA_KIRIM, tahun, nopbk,tanggaldoc, tanggalberlaku, nominal, tipe, kdmap, kdbayar,\n",
    "masapajak,tahunpajak,kpp_admin, concat(npwp2,kpp2,cabang2) as NPWP_TERIMA, nama2 as NAMA_TERIMA,\n",
    "kdmap2,kdbayar2,masapajak2,tahunpajak2,kpp_admin2,ntpn FROM pbk;\n",
    "'''"
   ]
  },
  {
   "cell_type": "code",
   "execution_count": 387,
   "metadata": {},
   "outputs": [
    {
     "output_type": "execute_result",
     "data": {
      "text/plain": [
       "        NPWP_KIRIM                  NAMA_KIRIM  tahun  \\\n",
       "0  026354837007000          INSPIRA ADHI MITRA   2018   \n",
       "1  018503631007000  KHARISMA PURNAWIRA NUGRAHA   2018   \n",
       "2  018503631007000  KHARISMA PURNAWIRA NUGRAHA   2018   \n",
       "3  018503631007000  KHARISMA PURNAWIRA NUGRAHA   2018   \n",
       "4  018503631007000  KHARISMA PURNAWIRA NUGRAHA   2018   \n",
       "\n",
       "                               nopbk  tanggaldoc tanggalberlaku     nominal  \\\n",
       "0  PBK-00228/III/WPJ.20/KP.0703/2018  2018-03-14     2018-02-10     30000.0   \n",
       "1  PBK-01081/XII/WPJ.20/KP.0703/2018  2018-12-27     2015-12-21  87794970.0   \n",
       "2  PBK-01082/XII/WPJ.20/KP.0703/2018  2018-12-27     2015-12-23  87794970.0   \n",
       "3  PBK-01083/XII/WPJ.20/KP.0703/2018  2018-12-27     2015-12-23  77466150.0   \n",
       "4  PBK-01084/XII/WPJ.20/KP.0703/2018  2018-12-27     2015-12-21  87794970.0   \n",
       "\n",
       "   tipe   kdmap kdbayar  ...  tahunpajak  kpp_admin      NPWP_TERIMA  \\\n",
       "0  MASA  411121     100  ...        2018        007  026354837007000   \n",
       "1  MASA  411122     100  ...        2015        007  018503631007000   \n",
       "2  MASA  411122     100  ...        2015        007  018503631007000   \n",
       "3  MASA  411122     100  ...        2015        007  018503631007000   \n",
       "4  MASA  411122     100  ...        2015        007  018503631007000   \n",
       "\n",
       "                  NAMA_TERIMA  kdmap2 kdbayar2 masapajak2  tahunpajak2  \\\n",
       "0          INSPIRA ADHI MITRA  411121      100          4         2018   \n",
       "1  KHARISMA PURNAWIRA NUGRAHA  411211      900         12         2015   \n",
       "2  KHARISMA PURNAWIRA NUGRAHA  411211      900         12         2015   \n",
       "3  KHARISMA PURNAWIRA NUGRAHA  411211      900         12         2015   \n",
       "4  KHARISMA PURNAWIRA NUGRAHA  411211      900         12         2015   \n",
       "\n",
       "   kpp_admin2              ntpn  \n",
       "0         007  FC37F8945LNVFV76  \n",
       "1         007   150151301028517  \n",
       "2         007   150151301028611  \n",
       "3         007   150151301028675  \n",
       "4         007   150151301028518  \n",
       "\n",
       "[5 rows x 21 columns]"
      ],
      "text/html": "<div>\n<style scoped>\n    .dataframe tbody tr th:only-of-type {\n        vertical-align: middle;\n    }\n\n    .dataframe tbody tr th {\n        vertical-align: top;\n    }\n\n    .dataframe thead th {\n        text-align: right;\n    }\n</style>\n<table border=\"1\" class=\"dataframe\">\n  <thead>\n    <tr style=\"text-align: right;\">\n      <th></th>\n      <th>NPWP_KIRIM</th>\n      <th>NAMA_KIRIM</th>\n      <th>tahun</th>\n      <th>nopbk</th>\n      <th>tanggaldoc</th>\n      <th>tanggalberlaku</th>\n      <th>nominal</th>\n      <th>tipe</th>\n      <th>kdmap</th>\n      <th>kdbayar</th>\n      <th>...</th>\n      <th>tahunpajak</th>\n      <th>kpp_admin</th>\n      <th>NPWP_TERIMA</th>\n      <th>NAMA_TERIMA</th>\n      <th>kdmap2</th>\n      <th>kdbayar2</th>\n      <th>masapajak2</th>\n      <th>tahunpajak2</th>\n      <th>kpp_admin2</th>\n      <th>ntpn</th>\n    </tr>\n  </thead>\n  <tbody>\n    <tr>\n      <th>0</th>\n      <td>026354837007000</td>\n      <td>INSPIRA ADHI MITRA</td>\n      <td>2018</td>\n      <td>PBK-00228/III/WPJ.20/KP.0703/2018</td>\n      <td>2018-03-14</td>\n      <td>2018-02-10</td>\n      <td>30000.0</td>\n      <td>MASA</td>\n      <td>411121</td>\n      <td>100</td>\n      <td>...</td>\n      <td>2018</td>\n      <td>007</td>\n      <td>026354837007000</td>\n      <td>INSPIRA ADHI MITRA</td>\n      <td>411121</td>\n      <td>100</td>\n      <td>4</td>\n      <td>2018</td>\n      <td>007</td>\n      <td>FC37F8945LNVFV76</td>\n    </tr>\n    <tr>\n      <th>1</th>\n      <td>018503631007000</td>\n      <td>KHARISMA PURNAWIRA NUGRAHA</td>\n      <td>2018</td>\n      <td>PBK-01081/XII/WPJ.20/KP.0703/2018</td>\n      <td>2018-12-27</td>\n      <td>2015-12-21</td>\n      <td>87794970.0</td>\n      <td>MASA</td>\n      <td>411122</td>\n      <td>100</td>\n      <td>...</td>\n      <td>2015</td>\n      <td>007</td>\n      <td>018503631007000</td>\n      <td>KHARISMA PURNAWIRA NUGRAHA</td>\n      <td>411211</td>\n      <td>900</td>\n      <td>12</td>\n      <td>2015</td>\n      <td>007</td>\n      <td>150151301028517</td>\n    </tr>\n    <tr>\n      <th>2</th>\n      <td>018503631007000</td>\n      <td>KHARISMA PURNAWIRA NUGRAHA</td>\n      <td>2018</td>\n      <td>PBK-01082/XII/WPJ.20/KP.0703/2018</td>\n      <td>2018-12-27</td>\n      <td>2015-12-23</td>\n      <td>87794970.0</td>\n      <td>MASA</td>\n      <td>411122</td>\n      <td>100</td>\n      <td>...</td>\n      <td>2015</td>\n      <td>007</td>\n      <td>018503631007000</td>\n      <td>KHARISMA PURNAWIRA NUGRAHA</td>\n      <td>411211</td>\n      <td>900</td>\n      <td>12</td>\n      <td>2015</td>\n      <td>007</td>\n      <td>150151301028611</td>\n    </tr>\n    <tr>\n      <th>3</th>\n      <td>018503631007000</td>\n      <td>KHARISMA PURNAWIRA NUGRAHA</td>\n      <td>2018</td>\n      <td>PBK-01083/XII/WPJ.20/KP.0703/2018</td>\n      <td>2018-12-27</td>\n      <td>2015-12-23</td>\n      <td>77466150.0</td>\n      <td>MASA</td>\n      <td>411122</td>\n      <td>100</td>\n      <td>...</td>\n      <td>2015</td>\n      <td>007</td>\n      <td>018503631007000</td>\n      <td>KHARISMA PURNAWIRA NUGRAHA</td>\n      <td>411211</td>\n      <td>900</td>\n      <td>12</td>\n      <td>2015</td>\n      <td>007</td>\n      <td>150151301028675</td>\n    </tr>\n    <tr>\n      <th>4</th>\n      <td>018503631007000</td>\n      <td>KHARISMA PURNAWIRA NUGRAHA</td>\n      <td>2018</td>\n      <td>PBK-01084/XII/WPJ.20/KP.0703/2018</td>\n      <td>2018-12-27</td>\n      <td>2015-12-21</td>\n      <td>87794970.0</td>\n      <td>MASA</td>\n      <td>411122</td>\n      <td>100</td>\n      <td>...</td>\n      <td>2015</td>\n      <td>007</td>\n      <td>018503631007000</td>\n      <td>KHARISMA PURNAWIRA NUGRAHA</td>\n      <td>411211</td>\n      <td>900</td>\n      <td>12</td>\n      <td>2015</td>\n      <td>007</td>\n      <td>150151301028518</td>\n    </tr>\n  </tbody>\n</table>\n<p>5 rows × 21 columns</p>\n</div>"
     },
     "metadata": {},
     "execution_count": 387
    }
   ],
   "source": [
    "pbk = pd.read_sql(query, db_connection)\n",
    "pbk.head()\n"
   ]
  },
  {
   "cell_type": "code",
   "execution_count": 388,
   "metadata": {},
   "outputs": [
    {
     "output_type": "execute_result",
     "data": {
      "text/plain": [
       "Index(['NPWP_KIRIM', 'NAMA_KIRIM', 'TAHUN_KIRIM', 'NOPBK', 'TANGGAL_DOKUMEN',\n",
       "       'TANGGAL_BERLAKU', 'NOMINAL', 'TIPE', 'KDMAP_KIRIM', 'KDBAYAR_KIRIM',\n",
       "       'MASAPAJAK_KIRIM', 'TAHUNPAJAK_KIRIM', 'KPPADMIN_KIRIM', 'NPWP_TERIMA',\n",
       "       'NAMA_TERIMA', 'KDMAP_TERIMA', 'KDBAYAR_TERIMA', 'MASAPAJAK_TERIMA',\n",
       "       'TAHUNPAJAK_TERIMA', 'KPP_ADMIN_TERIMA', 'NTPN'],\n",
       "      dtype='object')"
      ]
     },
     "metadata": {},
     "execution_count": 388
    }
   ],
   "source": [
    "pbk.rename(columns={'tahun':'TAHUN_KIRIM','nopbk':'NOPBK','tanggaldoc':'Tanggal_Dokumen','tanggalberlaku':'Tanggal_Berlaku',\t'nominal':'Nominal','tipe':'Tipe','kdmap':'KDMAP_KIRIM','kdbayar':'KDBAYAR_KIRIM','masapajak':'Masapajak_KIRIM','tahunpajak':'Tahunpajak_KIRIM', 'kpp_admin':'KPPAdmin_KIRIM'},inplace=True)\n",
    "pbk.columns = pbk.columns.str.replace('2','_TERIMA')\n",
    "pbk.columns = pbk.columns.str.upper()\n",
    "pbk.columns"
   ]
  },
  {
   "cell_type": "code",
   "execution_count": 389,
   "metadata": {},
   "outputs": [
    {
     "output_type": "execute_result",
     "data": {
      "text/plain": [
       "NPWP_KIRIM            object\n",
       "NAMA_KIRIM            object\n",
       "TAHUN_KIRIM            int64\n",
       "NOPBK                 object\n",
       "TANGGAL_DOKUMEN       object\n",
       "TANGGAL_BERLAKU       object\n",
       "NOMINAL              float64\n",
       "TIPE                  object\n",
       "KDMAP_KIRIM           object\n",
       "KDBAYAR_KIRIM         object\n",
       "MASAPAJAK_KIRIM        int64\n",
       "TAHUNPAJAK_KIRIM       int64\n",
       "KPPADMIN_KIRIM        object\n",
       "NPWP_TERIMA           object\n",
       "NAMA_TERIMA           object\n",
       "KDMAP_TERIMA          object\n",
       "KDBAYAR_TERIMA        object\n",
       "MASAPAJAK_TERIMA       int64\n",
       "TAHUNPAJAK_TERIMA      int64\n",
       "KPP_ADMIN_TERIMA      object\n",
       "NTPN                  object\n",
       "dtype: object"
      ]
     },
     "metadata": {},
     "execution_count": 389
    }
   ],
   "source": [
    "pbk.head()\n",
    "pbk.dtypes"
   ]
  },
  {
   "cell_type": "code",
   "execution_count": 390,
   "metadata": {},
   "outputs": [],
   "source": [
    "pbk_kirim = pbk.loc[pbk['KPPADMIN_KIRIM']=='007']\n",
    "pbk_terima = pbk.loc[pbk['KPP_ADMIN_TERIMA']=='007']"
   ]
  },
  {
   "cell_type": "code",
   "execution_count": null,
   "metadata": {},
   "outputs": [],
   "source": [
    "ProfileReport(pbk, minimal=True)\n"
   ]
  },
  {
   "cell_type": "code",
   "execution_count": 392,
   "metadata": {},
   "outputs": [
    {
     "output_type": "execute_result",
     "data": {
      "text/plain": [
       "Empty DataFrame\n",
       "Columns: [NPWP_KIRIM, NAMA_KIRIM, TAHUN_KIRIM, NOPBK, TANGGAL_DOKUMEN, TANGGAL_BERLAKU, NOMINAL, TIPE, KDMAP_KIRIM, KDBAYAR_KIRIM, MASAPAJAK_KIRIM, TAHUNPAJAK_KIRIM, KPPADMIN_KIRIM, NPWP_TERIMA, NAMA_TERIMA, KDMAP_TERIMA, KDBAYAR_TERIMA, MASAPAJAK_TERIMA, TAHUNPAJAK_TERIMA, KPP_ADMIN_TERIMA, NTPN]\n",
       "Index: []\n",
       "\n",
       "[0 rows x 21 columns]"
      ],
      "text/html": "<div>\n<style scoped>\n    .dataframe tbody tr th:only-of-type {\n        vertical-align: middle;\n    }\n\n    .dataframe tbody tr th {\n        vertical-align: top;\n    }\n\n    .dataframe thead th {\n        text-align: right;\n    }\n</style>\n<table border=\"1\" class=\"dataframe\">\n  <thead>\n    <tr style=\"text-align: right;\">\n      <th></th>\n      <th>NPWP_KIRIM</th>\n      <th>NAMA_KIRIM</th>\n      <th>TAHUN_KIRIM</th>\n      <th>NOPBK</th>\n      <th>TANGGAL_DOKUMEN</th>\n      <th>TANGGAL_BERLAKU</th>\n      <th>NOMINAL</th>\n      <th>TIPE</th>\n      <th>KDMAP_KIRIM</th>\n      <th>KDBAYAR_KIRIM</th>\n      <th>...</th>\n      <th>TAHUNPAJAK_KIRIM</th>\n      <th>KPPADMIN_KIRIM</th>\n      <th>NPWP_TERIMA</th>\n      <th>NAMA_TERIMA</th>\n      <th>KDMAP_TERIMA</th>\n      <th>KDBAYAR_TERIMA</th>\n      <th>MASAPAJAK_TERIMA</th>\n      <th>TAHUNPAJAK_TERIMA</th>\n      <th>KPP_ADMIN_TERIMA</th>\n      <th>NTPN</th>\n    </tr>\n  </thead>\n  <tbody>\n  </tbody>\n</table>\n<p>0 rows × 21 columns</p>\n</div>"
     },
     "metadata": {},
     "execution_count": 392
    }
   ],
   "source": [
    "pbk.loc[(pbk.KPPADMIN_KIRIM != '007') & (pbk.KPP_ADMIN_TERIMA != '007')]"
   ]
  },
  {
   "source": [
    "# TAMBAH KIRIM DAN TERIMA NOMINAL"
   ],
   "cell_type": "markdown",
   "metadata": {}
  },
  {
   "cell_type": "code",
   "execution_count": 393,
   "metadata": {},
   "outputs": [
    {
     "output_type": "stream",
     "name": "stdout",
     "text": [
      "350539424248.0\n520555895787.0\n544847074326.0\n871095320035.0\n"
     ]
    }
   ],
   "source": [
    "print(pbk_kirim.NOMINAL.sum())\n",
    "print(pbk_terima.NOMINAL.sum())\n",
    "print(pbk.NOMINAL.sum())\n",
    "print(pbk_terima.NOMINAL.sum()+pbk_kirim.NOMINAL.sum())"
   ]
  },
  {
   "cell_type": "code",
   "execution_count": 394,
   "metadata": {},
   "outputs": [
    {
     "output_type": "error",
     "ename": "IndentationError",
     "evalue": "unindent does not match any outer indentation level (<tokenize>, line 4)",
     "traceback": [
      "\u001b[1;36m  File \u001b[1;32m\"<tokenize>\"\u001b[1;36m, line \u001b[1;32m4\u001b[0m\n\u001b[1;33m    else:\u001b[0m\n\u001b[1;37m    ^\u001b[0m\n\u001b[1;31mIndentationError\u001b[0m\u001b[1;31m:\u001b[0m unindent does not match any outer indentation level\n"
     ]
    }
   ],
   "source": [
    "# KIRIM\n",
    "for item in pbk['KPPADMIN_KIRIM']:\n",
    "        pbk['NOMINAL_KIRIM'] = pbk.NOMINAL\n",
    "    else:\n",
    "         pbk['NOMINAL_KIRIM'] = 0\n",
    "\n",
    "# TERIMA\n",
    "for item in pbk['KPP_ADMIN_TERIMA']:\n",
    "    if item == '007' :\n",
    "        pbk['NOMINAL_TERIMA'] = pbk.NOMINAL\n",
    "    else:\n",
    "         pbk['NOMINAL_TERIMA'] = 0\n"
   ]
  },
  {
   "cell_type": "code",
   "execution_count": 188,
   "metadata": {},
   "outputs": [
    {
     "output_type": "execute_result",
     "data": {
      "text/plain": [
       "        NPWP_KIRIM                  NAMA_KIRIM  TAHUN_KIRIM  \\\n",
       "0  026354837007000          INSPIRA ADHI MITRA         2018   \n",
       "1  018503631007000  KHARISMA PURNAWIRA NUGRAHA         2018   \n",
       "2  018503631007000  KHARISMA PURNAWIRA NUGRAHA         2018   \n",
       "3  018503631007000  KHARISMA PURNAWIRA NUGRAHA         2018   \n",
       "4  018503631007000  KHARISMA PURNAWIRA NUGRAHA         2018   \n",
       "\n",
       "                               NOPBK TANGGAL_DOKUMEN TANGGAL_BERLAKU  \\\n",
       "0  PBK-00228/III/WPJ.20/KP.0703/2018      2018-03-14      2018-02-10   \n",
       "1  PBK-01081/XII/WPJ.20/KP.0703/2018      2018-12-27      2015-12-21   \n",
       "2  PBK-01082/XII/WPJ.20/KP.0703/2018      2018-12-27      2015-12-23   \n",
       "3  PBK-01083/XII/WPJ.20/KP.0703/2018      2018-12-27      2015-12-23   \n",
       "4  PBK-01084/XII/WPJ.20/KP.0703/2018      2018-12-27      2015-12-21   \n",
       "\n",
       "      NOMINAL  TIPE KDMAP_KIRIM KDBAYAR_KIRIM  ...      NPWP_TERIMA  \\\n",
       "0     30000.0  MASA      411121           100  ...  026354837007000   \n",
       "1  87794970.0  MASA      411122           100  ...  018503631007000   \n",
       "2  87794970.0  MASA      411122           100  ...  018503631007000   \n",
       "3  77466150.0  MASA      411122           100  ...  018503631007000   \n",
       "4  87794970.0  MASA      411122           100  ...  018503631007000   \n",
       "\n",
       "                  NAMA_TERIMA KDMAP_TERIMA KDBAYAR_TERIMA MASAPAJAK_TERIMA  \\\n",
       "0          INSPIRA ADHI MITRA       411121            100                4   \n",
       "1  KHARISMA PURNAWIRA NUGRAHA       411211            900               12   \n",
       "2  KHARISMA PURNAWIRA NUGRAHA       411211            900               12   \n",
       "3  KHARISMA PURNAWIRA NUGRAHA       411211            900               12   \n",
       "4  KHARISMA PURNAWIRA NUGRAHA       411211            900               12   \n",
       "\n",
       "  TAHUNPAJAK_TERIMA KPP_ADMIN_TERIMA              NTPN  NOMINAL_KIRIM  \\\n",
       "0              2018              007  FC37F8945LNVFV76              0   \n",
       "1              2015              007   150151301028517              0   \n",
       "2              2015              007   150151301028611              0   \n",
       "3              2015              007   150151301028675              0   \n",
       "4              2015              007   150151301028518              0   \n",
       "\n",
       "  NOMINAL_TERIMA  \n",
       "0        30000.0  \n",
       "1     87794970.0  \n",
       "2     87794970.0  \n",
       "3     77466150.0  \n",
       "4     87794970.0  \n",
       "\n",
       "[5 rows x 23 columns]"
      ],
      "text/html": "<div>\n<style scoped>\n    .dataframe tbody tr th:only-of-type {\n        vertical-align: middle;\n    }\n\n    .dataframe tbody tr th {\n        vertical-align: top;\n    }\n\n    .dataframe thead th {\n        text-align: right;\n    }\n</style>\n<table border=\"1\" class=\"dataframe\">\n  <thead>\n    <tr style=\"text-align: right;\">\n      <th></th>\n      <th>NPWP_KIRIM</th>\n      <th>NAMA_KIRIM</th>\n      <th>TAHUN_KIRIM</th>\n      <th>NOPBK</th>\n      <th>TANGGAL_DOKUMEN</th>\n      <th>TANGGAL_BERLAKU</th>\n      <th>NOMINAL</th>\n      <th>TIPE</th>\n      <th>KDMAP_KIRIM</th>\n      <th>KDBAYAR_KIRIM</th>\n      <th>...</th>\n      <th>NPWP_TERIMA</th>\n      <th>NAMA_TERIMA</th>\n      <th>KDMAP_TERIMA</th>\n      <th>KDBAYAR_TERIMA</th>\n      <th>MASAPAJAK_TERIMA</th>\n      <th>TAHUNPAJAK_TERIMA</th>\n      <th>KPP_ADMIN_TERIMA</th>\n      <th>NTPN</th>\n      <th>NOMINAL_KIRIM</th>\n      <th>NOMINAL_TERIMA</th>\n    </tr>\n  </thead>\n  <tbody>\n    <tr>\n      <th>0</th>\n      <td>026354837007000</td>\n      <td>INSPIRA ADHI MITRA</td>\n      <td>2018</td>\n      <td>PBK-00228/III/WPJ.20/KP.0703/2018</td>\n      <td>2018-03-14</td>\n      <td>2018-02-10</td>\n      <td>30000.0</td>\n      <td>MASA</td>\n      <td>411121</td>\n      <td>100</td>\n      <td>...</td>\n      <td>026354837007000</td>\n      <td>INSPIRA ADHI MITRA</td>\n      <td>411121</td>\n      <td>100</td>\n      <td>4</td>\n      <td>2018</td>\n      <td>007</td>\n      <td>FC37F8945LNVFV76</td>\n      <td>0</td>\n      <td>30000.0</td>\n    </tr>\n    <tr>\n      <th>1</th>\n      <td>018503631007000</td>\n      <td>KHARISMA PURNAWIRA NUGRAHA</td>\n      <td>2018</td>\n      <td>PBK-01081/XII/WPJ.20/KP.0703/2018</td>\n      <td>2018-12-27</td>\n      <td>2015-12-21</td>\n      <td>87794970.0</td>\n      <td>MASA</td>\n      <td>411122</td>\n      <td>100</td>\n      <td>...</td>\n      <td>018503631007000</td>\n      <td>KHARISMA PURNAWIRA NUGRAHA</td>\n      <td>411211</td>\n      <td>900</td>\n      <td>12</td>\n      <td>2015</td>\n      <td>007</td>\n      <td>150151301028517</td>\n      <td>0</td>\n      <td>87794970.0</td>\n    </tr>\n    <tr>\n      <th>2</th>\n      <td>018503631007000</td>\n      <td>KHARISMA PURNAWIRA NUGRAHA</td>\n      <td>2018</td>\n      <td>PBK-01082/XII/WPJ.20/KP.0703/2018</td>\n      <td>2018-12-27</td>\n      <td>2015-12-23</td>\n      <td>87794970.0</td>\n      <td>MASA</td>\n      <td>411122</td>\n      <td>100</td>\n      <td>...</td>\n      <td>018503631007000</td>\n      <td>KHARISMA PURNAWIRA NUGRAHA</td>\n      <td>411211</td>\n      <td>900</td>\n      <td>12</td>\n      <td>2015</td>\n      <td>007</td>\n      <td>150151301028611</td>\n      <td>0</td>\n      <td>87794970.0</td>\n    </tr>\n    <tr>\n      <th>3</th>\n      <td>018503631007000</td>\n      <td>KHARISMA PURNAWIRA NUGRAHA</td>\n      <td>2018</td>\n      <td>PBK-01083/XII/WPJ.20/KP.0703/2018</td>\n      <td>2018-12-27</td>\n      <td>2015-12-23</td>\n      <td>77466150.0</td>\n      <td>MASA</td>\n      <td>411122</td>\n      <td>100</td>\n      <td>...</td>\n      <td>018503631007000</td>\n      <td>KHARISMA PURNAWIRA NUGRAHA</td>\n      <td>411211</td>\n      <td>900</td>\n      <td>12</td>\n      <td>2015</td>\n      <td>007</td>\n      <td>150151301028675</td>\n      <td>0</td>\n      <td>77466150.0</td>\n    </tr>\n    <tr>\n      <th>4</th>\n      <td>018503631007000</td>\n      <td>KHARISMA PURNAWIRA NUGRAHA</td>\n      <td>2018</td>\n      <td>PBK-01084/XII/WPJ.20/KP.0703/2018</td>\n      <td>2018-12-27</td>\n      <td>2015-12-21</td>\n      <td>87794970.0</td>\n      <td>MASA</td>\n      <td>411122</td>\n      <td>100</td>\n      <td>...</td>\n      <td>018503631007000</td>\n      <td>KHARISMA PURNAWIRA NUGRAHA</td>\n      <td>411211</td>\n      <td>900</td>\n      <td>12</td>\n      <td>2015</td>\n      <td>007</td>\n      <td>150151301028518</td>\n      <td>0</td>\n      <td>87794970.0</td>\n    </tr>\n  </tbody>\n</table>\n<p>5 rows × 23 columns</p>\n</div>"
     },
     "metadata": {},
     "execution_count": 188
    }
   ],
   "source": [
    "pbk.head()"
   ]
  },
  {
   "source": [
    "# VERIFY NOMNIAL = KIRIM + TERIMA"
   ],
   "cell_type": "markdown",
   "metadata": {}
  },
  {
   "cell_type": "code",
   "execution_count": 189,
   "metadata": {},
   "outputs": [
    {
     "output_type": "execute_result",
     "data": {
      "text/plain": [
       "544847074326.0"
      ]
     },
     "metadata": {},
     "execution_count": 189
    }
   ],
   "source": [
    "pbk.NOMINAL.sum()"
   ]
  },
  {
   "cell_type": "code",
   "execution_count": 190,
   "metadata": {},
   "outputs": [
    {
     "output_type": "execute_result",
     "data": {
      "text/plain": [
       "544847074326.0"
      ]
     },
     "metadata": {},
     "execution_count": 190
    }
   ],
   "source": [
    "pbk.NOMINAL_KIRIM.sum() + pbk.NOMINAL_TERIMA.sum()"
   ]
  },
  {
   "cell_type": "code",
   "execution_count": 191,
   "metadata": {},
   "outputs": [
    {
     "output_type": "execute_result",
     "data": {
      "text/plain": [
       "Index(['NPWP_KIRIM', 'NAMA_KIRIM', 'TAHUN_KIRIM', 'NOPBK', 'TANGGAL_DOKUMEN',\n",
       "       'TANGGAL_BERLAKU', 'TIPE', 'KDMAP_KIRIM', 'KDBAYAR_KIRIM',\n",
       "       'MASAPAJAK_KIRIM', 'TAHUNPAJAK_KIRIM', 'KPPADMIN_KIRIM', 'NPWP_TERIMA',\n",
       "       'NAMA_TERIMA', 'KDMAP_TERIMA', 'KDBAYAR_TERIMA', 'MASAPAJAK_TERIMA',\n",
       "       'TAHUNPAJAK_TERIMA', 'KPP_ADMIN_TERIMA', 'NTPN', 'NOMINAL_KIRIM',\n",
       "       'NOMINAL_TERIMA'],\n",
       "      dtype='object')"
      ]
     },
     "metadata": {},
     "execution_count": 191
    }
   ],
   "source": [
    "pbk = pbk.drop('NOMINAL',axis=1)\n",
    "pbk.columns"
   ]
  },
  {
   "source": [
    "# +MFWP"
   ],
   "cell_type": "markdown",
   "metadata": {}
  },
  {
   "cell_type": "code",
   "execution_count": null,
   "metadata": {},
   "outputs": [],
   "source": [
    "for "
   ]
  }
 ]
}