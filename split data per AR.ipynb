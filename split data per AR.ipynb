{
 "cells": [
  {
   "cell_type": "code",
   "execution_count": 94,
   "source": [
    "import pandas as pd\r\n",
    "import numpy as np\r\n",
    "import os"
   ],
   "outputs": [],
   "metadata": {}
  },
  {
   "cell_type": "code",
   "execution_count": 95,
   "source": [
    "folder = os.getcwd()"
   ],
   "outputs": [],
   "metadata": {}
  },
  {
   "cell_type": "code",
   "execution_count": 96,
   "source": [
    "data = pd.read_excel('Rekap Data Anomali.xlsx',sheet_name='22ImporPMK239')"
   ],
   "outputs": [],
   "metadata": {}
  },
  {
   "cell_type": "code",
   "execution_count": 97,
   "source": [
    "data = data.fillna(np.nan).replace([np.nan],[''])"
   ],
   "outputs": [],
   "metadata": {}
  },
  {
   "cell_type": "code",
   "execution_count": 98,
   "source": [
    "namaar = data.NAMAAR.unique()"
   ],
   "outputs": [],
   "metadata": {}
  },
  {
   "cell_type": "code",
   "execution_count": 99,
   "source": [
    "for ar in namaar:\r\n",
    "    df = data.loc[data.NAMAAR == ar]\r\n",
    "    lokasi = os.path.join(folder,ar)\r\n",
    "    if not os.path.exists(lokasi):\r\n",
    "        os.makedirs(lokasi)\r\n",
    "    df.to_excel('{}\\{}_22ImporPMK239.xlsx'.format(lokasi,ar), index=False)\r\n"
   ],
   "outputs": [],
   "metadata": {}
  }
 ],
 "metadata": {
  "orig_nbformat": 4,
  "language_info": {
   "name": "python",
   "version": "3.8.11",
   "mimetype": "text/x-python",
   "codemirror_mode": {
    "name": "ipython",
    "version": 3
   },
   "pygments_lexer": "ipython3",
   "nbconvert_exporter": "python",
   "file_extension": ".py"
  },
  "kernelspec": {
   "name": "python3",
   "display_name": "Python 3.8.11 64-bit ('base': conda)"
  },
  "interpreter": {
   "hash": "b3ba2566441a7c06988d0923437866b63cedc61552a5af99d1f4fb67d367b25f"
  }
 },
 "nbformat": 4,
 "nbformat_minor": 2
}