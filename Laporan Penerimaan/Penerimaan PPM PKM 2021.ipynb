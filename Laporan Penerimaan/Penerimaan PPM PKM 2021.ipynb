{
 "cells": [
  {
   "cell_type": "code",
   "execution_count": 99,
   "metadata": {},
   "outputs": [],
   "source": [
    "import pandas as pd"
   ]
  },
  {
   "cell_type": "code",
   "execution_count": 100,
   "metadata": {},
   "outputs": [],
   "source": [
    "pkm = pd.read_excel(r'D:\\DATA KANTOR\\LAPORAN\\BAHAN PPM PKM.xlsx',sheet_name='2021_PKM',\n",
    "usecols=['REALISASI TAHUN INI','NAMA_AR'])"
   ]
  },
  {
   "cell_type": "code",
   "execution_count": 101,
   "metadata": {},
   "outputs": [],
   "source": [
    "pkm.rename(columns={'REALISASI TAHUN INI':'PKM'},inplace=True)"
   ]
  },
  {
   "cell_type": "code",
   "execution_count": 102,
   "metadata": {},
   "outputs": [],
   "source": [
    "pkm = pkm.groupby('NAMA_AR').sum().reset_index()"
   ]
  },
  {
   "cell_type": "code",
   "execution_count": 103,
   "metadata": {},
   "outputs": [],
   "source": [
    "ppm = pd.read_excel(r'D:\\DATA KANTOR\\LAPORAN\\BAHAN PPM PKM.xlsx',sheet_name='2021_PPM',\n",
    "usecols=['REALISASI TAHUN INI','NAMA_AR'])\n"
   ]
  },
  {
   "cell_type": "code",
   "execution_count": 104,
   "metadata": {},
   "outputs": [],
   "source": [
    "ppm.rename(columns={'REALISASI TAHUN INI':'PPM'},inplace=True)"
   ]
  },
  {
   "cell_type": "code",
   "execution_count": 105,
   "metadata": {},
   "outputs": [],
   "source": [
    "ppm = ppm.groupby('NAMA_AR').sum().reset_index()"
   ]
  },
  {
   "cell_type": "code",
   "execution_count": 106,
   "metadata": {},
   "outputs": [],
   "source": [
    "data = pd.merge(ppm,pkm, on=['NAMA_AR'],how='outer')"
   ]
  },
  {
   "cell_type": "code",
   "execution_count": 107,
   "metadata": {},
   "outputs": [
    {
     "data": {
      "text/html": [
       "<div>\n",
       "<style scoped>\n",
       "    .dataframe tbody tr th:only-of-type {\n",
       "        vertical-align: middle;\n",
       "    }\n",
       "\n",
       "    .dataframe tbody tr th {\n",
       "        vertical-align: top;\n",
       "    }\n",
       "\n",
       "    .dataframe thead th {\n",
       "        text-align: right;\n",
       "    }\n",
       "</style>\n",
       "<table border=\"1\" class=\"dataframe\">\n",
       "  <thead>\n",
       "    <tr style=\"text-align: right;\">\n",
       "      <th></th>\n",
       "      <th>NAMA_AR</th>\n",
       "      <th>PPM</th>\n",
       "      <th>PKM</th>\n",
       "    </tr>\n",
       "  </thead>\n",
       "  <tbody>\n",
       "    <tr>\n",
       "      <th>0</th>\n",
       "      <td>Aditya Yudistira</td>\n",
       "      <td>207639271518</td>\n",
       "      <td>49031356777</td>\n",
       "    </tr>\n",
       "    <tr>\n",
       "      <th>1</th>\n",
       "      <td>Agus Widodo</td>\n",
       "      <td>79558493040</td>\n",
       "      <td>5109614714</td>\n",
       "    </tr>\n",
       "    <tr>\n",
       "      <th>2</th>\n",
       "      <td>Dana</td>\n",
       "      <td>130649305566</td>\n",
       "      <td>1414298047</td>\n",
       "    </tr>\n",
       "    <tr>\n",
       "      <th>3</th>\n",
       "      <td>Daniel Albert Santo</td>\n",
       "      <td>1598470986344</td>\n",
       "      <td>14688319600</td>\n",
       "    </tr>\n",
       "    <tr>\n",
       "      <th>4</th>\n",
       "      <td>Dewi Rusmawati</td>\n",
       "      <td>248093521302</td>\n",
       "      <td>15379276294</td>\n",
       "    </tr>\n",
       "  </tbody>\n",
       "</table>\n",
       "</div>"
      ],
      "text/plain": [
       "               NAMA_AR            PPM          PKM\n",
       "0     Aditya Yudistira   207639271518  49031356777\n",
       "1          Agus Widodo    79558493040   5109614714\n",
       "2                 Dana   130649305566   1414298047\n",
       "3  Daniel Albert Santo  1598470986344  14688319600\n",
       "4       Dewi Rusmawati   248093521302  15379276294"
      ]
     },
     "execution_count": 107,
     "metadata": {},
     "output_type": "execute_result"
    }
   ],
   "source": [
    "data.head()"
   ]
  },
  {
   "cell_type": "code",
   "execution_count": 108,
   "metadata": {},
   "outputs": [],
   "source": [
    "target = pd.read_excel(r'D:\\DATA KANTOR\\LAPORAN\\BAHAN PPM PKM.xlsx',sheet_name='TARGET_ADJ')"
   ]
  },
  {
   "cell_type": "code",
   "execution_count": 109,
   "metadata": {},
   "outputs": [],
   "source": [
    "data_full = pd.merge(data,target,on='NAMA_AR',how='outer')"
   ]
  },
  {
   "cell_type": "code",
   "execution_count": 110,
   "metadata": {},
   "outputs": [],
   "source": [
    "ar = pd.read_excel(r'D:\\DATA KANTOR\\LAPORAN\\BAHAN PPM PKM.xlsx',sheet_name='AR',usecols=['NAMA_AR','SEKSI'])"
   ]
  },
  {
   "cell_type": "code",
   "execution_count": 111,
   "metadata": {},
   "outputs": [],
   "source": [
    "data_akhir = pd.merge(data_full,ar, on='NAMA_AR',how='outer')"
   ]
  },
  {
   "cell_type": "code",
   "execution_count": 112,
   "metadata": {},
   "outputs": [
    {
     "data": {
      "text/plain": [
       "Index(['NAMA_AR', 'PPM', 'PKM', 'Target_PKM', 'Target_PPM', 'SEKSI'], dtype='object')"
      ]
     },
     "execution_count": 112,
     "metadata": {},
     "output_type": "execute_result"
    }
   ],
   "source": [
    "data_akhir.columns"
   ]
  },
  {
   "cell_type": "code",
   "execution_count": 113,
   "metadata": {},
   "outputs": [],
   "source": [
    "data_akhir = data_akhir[['SEKSI','NAMA_AR','PPM','Target_PPM','PKM','Target_PKM']]"
   ]
  },
  {
   "cell_type": "code",
   "execution_count": 114,
   "metadata": {},
   "outputs": [],
   "source": [
    "data_akhir['Total Target'] = data_akhir.Target_PKM+data_akhir.Target_PPM\n",
    "data_akhir['Total Realisasi'] = data_akhir.PPM+data_akhir.PKM"
   ]
  },
  {
   "cell_type": "code",
   "execution_count": 116,
   "metadata": {},
   "outputs": [],
   "source": [
    "data_akhir.fillna('',inplace=True)"
   ]
  },
  {
   "cell_type": "code",
   "execution_count": 119,
   "metadata": {},
   "outputs": [],
   "source": [
    "data_akhir.to_excel(r'D:\\DATA KANTOR\\LAPORAN\\3.2021_laporan_target_realisasi_PPM PKM.xlsx',index=False)"
   ]
  },
  {
   "cell_type": "code",
   "execution_count": 120,
   "metadata": {},
   "outputs": [],
   "source": [
    "data_akhir = data_akhir.melt(id_vars=['SEKSI','NAMA_AR'],var_name='Variabel',value_name='Nominal')"
   ]
  },
  {
   "cell_type": "code",
   "execution_count": 122,
   "metadata": {},
   "outputs": [],
   "source": [
    "data_akhir.to_excel(r'D:\\DATA KANTOR\\LAPORAN\\3.2021_laporan_target_realisasi_PPM PKM_longversion.xlsx',index=False)"
   ]
  },
  {
   "cell_type": "code",
   "execution_count": null,
   "metadata": {},
   "outputs": [],
   "source": []
  }
 ],
 "metadata": {
  "interpreter": {
   "hash": "b3ba2566441a7c06988d0923437866b63cedc61552a5af99d1f4fb67d367b25f"
  },
  "kernelspec": {
   "display_name": "Python 3.8.8 64-bit ('base': conda)",
   "name": "python3"
  },
  "language_info": {
   "codemirror_mode": {
    "name": "ipython",
    "version": 3
   },
   "file_extension": ".py",
   "mimetype": "text/x-python",
   "name": "python",
   "nbconvert_exporter": "python",
   "pygments_lexer": "ipython3",
   "version": "3.8.8"
  },
  "orig_nbformat": 4
 },
 "nbformat": 4,
 "nbformat_minor": 2
}
