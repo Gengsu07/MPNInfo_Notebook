{
 "metadata": {
  "language_info": {
   "codemirror_mode": {
    "name": "ipython",
    "version": 3
   },
   "file_extension": ".py",
   "mimetype": "text/x-python",
   "name": "python",
   "nbconvert_exporter": "python",
   "pygments_lexer": "ipython3",
   "version": "3.9.0"
  },
  "orig_nbformat": 2,
  "kernelspec": {
   "name": "python390jvsc74a57bd0d0c403077b2524c67f7f8e11f307ce8f438e6a6fa2e4184536d9df58ffd5b860",
   "display_name": "Python 3.9.0 64-bit"
  },
  "metadata": {
   "interpreter": {
    "hash": "d0c403077b2524c67f7f8e11f307ce8f438e6a6fa2e4184536d9df58ffd5b860"
   }
  }
 },
 "nbformat": 4,
 "nbformat_minor": 2,
 "cells": [
  {
   "cell_type": "code",
   "execution_count": 13,
   "metadata": {},
   "outputs": [],
   "source": [
    "import pandas as pd\n",
    "import openpyxl\n",
    "import glob"
   ]
  },
  {
   "cell_type": "code",
   "execution_count": 14,
   "metadata": {},
   "outputs": [],
   "source": [
    "folder = glob.glob('D:\\\\DATA KANTOR\\MASTERFILE\\\\xlsx\\\\*.xlsx')"
   ]
  },
  {
   "cell_type": "code",
   "execution_count": 15,
   "metadata": {},
   "outputs": [],
   "source": [
    "data = pd.DataFrame()\n",
    "for file in folder:\n",
    "    df = pd.read_excel(file, engine='openpyxl')\n",
    "    data = data.append(df)"
   ]
  },
  {
   "cell_type": "code",
   "execution_count": 16,
   "metadata": {},
   "outputs": [
    {
     "output_type": "execute_result",
     "data": {
      "text/plain": [
       "   No                  NPWP                   Nama WP Kode KLU Status WP  \\\n",
       "0   1  01.332.992.5-006.000      BUMIMITRA ADIPERSADA    43211     Aktif   \n",
       "1   2  01.608.613.4-006.000          TILAYORA PERDANA    45301     Aktif   \n",
       "2   3  01.759.490.4-006.000      DAYA TUNAS CEMERLANG    46421     Aktif   \n",
       "3   4  01.882.255.1-006.000           ANASTASIA PUTRI    41019     Aktif   \n",
       "4   5  01.992.576.7-027.000  PRIMA MITRA SETIA SEJATI    81210     Aktif   \n",
       "\n",
       "            Tgl.Daftar       NIP         Nama      Seksi  \n",
       "0           15/12/2005  60091846  Abdul Kohar  Waskon II  \n",
       "1           17/12/1992  60091846  Abdul Kohar  Waskon II  \n",
       "2  1997-11-04 00:00:00  60091846  Abdul Kohar  Waskon II  \n",
       "3           27/05/1999  60091846  Abdul Kohar  Waskon II  \n",
       "4  2000-05-07 00:00:00  60091846  Abdul Kohar  Waskon II  "
      ],
      "text/html": "<div>\n<style scoped>\n    .dataframe tbody tr th:only-of-type {\n        vertical-align: middle;\n    }\n\n    .dataframe tbody tr th {\n        vertical-align: top;\n    }\n\n    .dataframe thead th {\n        text-align: right;\n    }\n</style>\n<table border=\"1\" class=\"dataframe\">\n  <thead>\n    <tr style=\"text-align: right;\">\n      <th></th>\n      <th>No</th>\n      <th>NPWP</th>\n      <th>Nama WP</th>\n      <th>Kode KLU</th>\n      <th>Status WP</th>\n      <th>Tgl.Daftar</th>\n      <th>NIP</th>\n      <th>Nama</th>\n      <th>Seksi</th>\n    </tr>\n  </thead>\n  <tbody>\n    <tr>\n      <th>0</th>\n      <td>1</td>\n      <td>01.332.992.5-006.000</td>\n      <td>BUMIMITRA ADIPERSADA</td>\n      <td>43211</td>\n      <td>Aktif</td>\n      <td>15/12/2005</td>\n      <td>60091846</td>\n      <td>Abdul Kohar</td>\n      <td>Waskon II</td>\n    </tr>\n    <tr>\n      <th>1</th>\n      <td>2</td>\n      <td>01.608.613.4-006.000</td>\n      <td>TILAYORA PERDANA</td>\n      <td>45301</td>\n      <td>Aktif</td>\n      <td>17/12/1992</td>\n      <td>60091846</td>\n      <td>Abdul Kohar</td>\n      <td>Waskon II</td>\n    </tr>\n    <tr>\n      <th>2</th>\n      <td>3</td>\n      <td>01.759.490.4-006.000</td>\n      <td>DAYA TUNAS CEMERLANG</td>\n      <td>46421</td>\n      <td>Aktif</td>\n      <td>1997-11-04 00:00:00</td>\n      <td>60091846</td>\n      <td>Abdul Kohar</td>\n      <td>Waskon II</td>\n    </tr>\n    <tr>\n      <th>3</th>\n      <td>4</td>\n      <td>01.882.255.1-006.000</td>\n      <td>ANASTASIA PUTRI</td>\n      <td>41019</td>\n      <td>Aktif</td>\n      <td>27/05/1999</td>\n      <td>60091846</td>\n      <td>Abdul Kohar</td>\n      <td>Waskon II</td>\n    </tr>\n    <tr>\n      <th>4</th>\n      <td>5</td>\n      <td>01.992.576.7-027.000</td>\n      <td>PRIMA MITRA SETIA SEJATI</td>\n      <td>81210</td>\n      <td>Aktif</td>\n      <td>2000-05-07 00:00:00</td>\n      <td>60091846</td>\n      <td>Abdul Kohar</td>\n      <td>Waskon II</td>\n    </tr>\n  </tbody>\n</table>\n</div>"
     },
     "metadata": {},
     "execution_count": 16
    }
   ],
   "source": [
    "data.head()"
   ]
  },
  {
   "cell_type": "code",
   "execution_count": 19,
   "metadata": {},
   "outputs": [],
   "source": [
    "data.to_csv('D:\\DATA KANTOR\\MASTERFILE\\FIX\\MFWPSEKANWIL.csv')"
   ]
  },
  {
   "cell_type": "code",
   "execution_count": null,
   "metadata": {},
   "outputs": [],
   "source": []
  }
 ]
}