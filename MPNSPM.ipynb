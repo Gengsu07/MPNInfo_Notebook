{
 "cells": [
  {
   "source": [
    "# Import Library"
   ],
   "cell_type": "markdown",
   "metadata": {}
  },
  {
   "cell_type": "code",
   "execution_count": 193,
   "metadata": {},
   "outputs": [],
   "source": [
    "import pandas as pd\n",
    "import matplotlib.pyplot as plt\n",
    "import seaborn as sb\n",
    "import mysql.connector as mysql"
   ]
  },
  {
   "source": [
    "# Konek Database"
   ],
   "cell_type": "markdown",
   "metadata": {}
  },
  {
   "cell_type": "code",
   "execution_count": 194,
   "metadata": {},
   "outputs": [],
   "source": [
    "db_connection = mysql.connect(host = \"10.4.19.15\", \n",
    "                            database = 'mpninfo', \n",
    "                            user = 'indra', \n",
    "                            password= 'indra', \n",
    "                            port = 3306)"
   ]
  },
  {
   "source": [
    "# READ FILE"
   ],
   "cell_type": "markdown",
   "metadata": {}
  },
  {
   "cell_type": "code",
   "execution_count": 195,
   "metadata": {},
   "outputs": [],
   "source": [
    "mfwp = pd.read_csv('D:\\DATA KANTOR\\MASTERFILE\\MFWP_AR_baru.csv',sep=';', dtype={'NPWP FULL':'str','Kode KLU':'str'}) \n",
    "map = pd.read_excel('D:\\DATA KANTOR\\MASTERFILE\\KODE_MAP_FILTERED.xlsx', engine='openpyxl', dtype={'KD MAP':'str'})\n"
   ]
  },
  {
   "source": [
    "# Kueri"
   ],
   "cell_type": "markdown",
   "metadata": {}
  },
  {
   "cell_type": "code",
   "execution_count": 196,
   "metadata": {},
   "outputs": [],
   "source": [
    "query = '''\n",
    "SELECT CONCAT(npwp,kpp,cabang) as Npwp_Full, nama, kdmap, kdbayar, datebayar, nominal,ntpn,bank,nosk,nospm FROM mpn\n",
    "where date(datebayar) > '2019-12-31';\n",
    "''' "
   ]
  },
  {
   "cell_type": "code",
   "execution_count": 197,
   "metadata": {},
   "outputs": [
    {
     "output_type": "execute_result",
     "data": {
      "text/plain": [
       "         Npwp_Full                          nama   kdmap kdbayar  datebayar  \\\n",
       "0  010030567007000  THE MASTER STEEL MANUFACTORY  411211     900 2021-05-17   \n",
       "1  010030567007000  THE MASTER STEEL MANUFACTORY  411211     900 2021-05-17   \n",
       "2  013412200007000         KARYAWAN WIJAYA KARYA  411211     900 2021-05-17   \n",
       "3  013412200007000         KARYAWAN WIJAYA KARYA  411211     900 2021-05-17   \n",
       "4  024586323009000         HARBARINDO BAHARITAMA  411211     900 2021-05-17   \n",
       "\n",
       "       nominal              ntpn                                   bank  nosk  \\\n",
       "0   32100897.0  72E7F83BAKB6UDB3  0009 - BANK NEGARA INDONESIA - MPN G2  None   \n",
       "1  101713480.0  5E4D33L7RFF8TACS  0009 - BANK NEGARA INDONESIA - MPN G2  None   \n",
       "2   19600000.0  708B84HLBA2A0AU7  0009 - BANK NEGARA INDONESIA - MPN G2  None   \n",
       "3    4400000.0  84EF976TQPPF764S  0009 - BANK NEGARA INDONESIA - MPN G2  None   \n",
       "4    6586204.0  5DEC55E2R4MHSU12  0009 - BANK NEGARA INDONESIA - MPN G2  None   \n",
       "\n",
       "  nospm  \n",
       "0  None  \n",
       "1  None  \n",
       "2  None  \n",
       "3  None  \n",
       "4  None  "
      ],
      "text/html": "<div>\n<style scoped>\n    .dataframe tbody tr th:only-of-type {\n        vertical-align: middle;\n    }\n\n    .dataframe tbody tr th {\n        vertical-align: top;\n    }\n\n    .dataframe thead th {\n        text-align: right;\n    }\n</style>\n<table border=\"1\" class=\"dataframe\">\n  <thead>\n    <tr style=\"text-align: right;\">\n      <th></th>\n      <th>Npwp_Full</th>\n      <th>nama</th>\n      <th>kdmap</th>\n      <th>kdbayar</th>\n      <th>datebayar</th>\n      <th>nominal</th>\n      <th>ntpn</th>\n      <th>bank</th>\n      <th>nosk</th>\n      <th>nospm</th>\n    </tr>\n  </thead>\n  <tbody>\n    <tr>\n      <th>0</th>\n      <td>010030567007000</td>\n      <td>THE MASTER STEEL MANUFACTORY</td>\n      <td>411211</td>\n      <td>900</td>\n      <td>2021-05-17</td>\n      <td>32100897.0</td>\n      <td>72E7F83BAKB6UDB3</td>\n      <td>0009 - BANK NEGARA INDONESIA - MPN G2</td>\n      <td>None</td>\n      <td>None</td>\n    </tr>\n    <tr>\n      <th>1</th>\n      <td>010030567007000</td>\n      <td>THE MASTER STEEL MANUFACTORY</td>\n      <td>411211</td>\n      <td>900</td>\n      <td>2021-05-17</td>\n      <td>101713480.0</td>\n      <td>5E4D33L7RFF8TACS</td>\n      <td>0009 - BANK NEGARA INDONESIA - MPN G2</td>\n      <td>None</td>\n      <td>None</td>\n    </tr>\n    <tr>\n      <th>2</th>\n      <td>013412200007000</td>\n      <td>KARYAWAN WIJAYA KARYA</td>\n      <td>411211</td>\n      <td>900</td>\n      <td>2021-05-17</td>\n      <td>19600000.0</td>\n      <td>708B84HLBA2A0AU7</td>\n      <td>0009 - BANK NEGARA INDONESIA - MPN G2</td>\n      <td>None</td>\n      <td>None</td>\n    </tr>\n    <tr>\n      <th>3</th>\n      <td>013412200007000</td>\n      <td>KARYAWAN WIJAYA KARYA</td>\n      <td>411211</td>\n      <td>900</td>\n      <td>2021-05-17</td>\n      <td>4400000.0</td>\n      <td>84EF976TQPPF764S</td>\n      <td>0009 - BANK NEGARA INDONESIA - MPN G2</td>\n      <td>None</td>\n      <td>None</td>\n    </tr>\n    <tr>\n      <th>4</th>\n      <td>024586323009000</td>\n      <td>HARBARINDO BAHARITAMA</td>\n      <td>411211</td>\n      <td>900</td>\n      <td>2021-05-17</td>\n      <td>6586204.0</td>\n      <td>5DEC55E2R4MHSU12</td>\n      <td>0009 - BANK NEGARA INDONESIA - MPN G2</td>\n      <td>None</td>\n      <td>None</td>\n    </tr>\n  </tbody>\n</table>\n</div>"
     },
     "metadata": {},
     "execution_count": 197
    }
   ],
   "source": [
    "mpn = pd.read_sql(query, db_connection, parse_dates='datebayar')\n",
    "mpn.head()"
   ]
  },
  {
   "cell_type": "code",
   "execution_count": 198,
   "metadata": {},
   "outputs": [
    {
     "output_type": "execute_result",
     "data": {
      "text/plain": [
       "Npwp_Full            object\n",
       "nama                 object\n",
       "kdmap                object\n",
       "kdbayar              object\n",
       "datebayar    datetime64[ns]\n",
       "nominal             float64\n",
       "ntpn                 object\n",
       "bank                 object\n",
       "nosk                 object\n",
       "nospm                object\n",
       "dtype: object"
      ]
     },
     "metadata": {},
     "execution_count": 198
    }
   ],
   "source": [
    "mpn.dtypes"
   ]
  },
  {
   "source": [
    "# + MFWP"
   ],
   "cell_type": "markdown",
   "metadata": {}
  },
  {
   "cell_type": "code",
   "execution_count": 199,
   "metadata": {},
   "outputs": [
    {
     "output_type": "execute_result",
     "data": {
      "text/plain": [
       "         Npwp_Full                          nama   kdmap kdbayar  datebayar  \\\n",
       "0  010030567007000  THE MASTER STEEL MANUFACTORY  411211     900 2021-05-17   \n",
       "1  010030567007000  THE MASTER STEEL MANUFACTORY  411211     900 2021-05-17   \n",
       "\n",
       "       nominal              ntpn                                   bank  nosk  \\\n",
       "0   32100897.0  72E7F83BAKB6UDB3  0009 - BANK NEGARA INDONESIA - MPN G2  None   \n",
       "1  101713480.0  5E4D33L7RFF8TACS  0009 - BANK NEGARA INDONESIA - MPN G2  None   \n",
       "\n",
       "  nospm       NPWP9 Kode KLU Status WP  Tgl.Daftar         NIP          Nama  \\\n",
       "0  None  10030567.0    24102     Aktif  31/12/1983  60105681.0  Donna Novita   \n",
       "1  None  10030567.0    24102     Aktif  31/12/1983  60105681.0  Donna Novita   \n",
       "\n",
       "      Seksi  \n",
       "0  Waskon 2  \n",
       "1  Waskon 2  "
      ],
      "text/html": "<div>\n<style scoped>\n    .dataframe tbody tr th:only-of-type {\n        vertical-align: middle;\n    }\n\n    .dataframe tbody tr th {\n        vertical-align: top;\n    }\n\n    .dataframe thead th {\n        text-align: right;\n    }\n</style>\n<table border=\"1\" class=\"dataframe\">\n  <thead>\n    <tr style=\"text-align: right;\">\n      <th></th>\n      <th>Npwp_Full</th>\n      <th>nama</th>\n      <th>kdmap</th>\n      <th>kdbayar</th>\n      <th>datebayar</th>\n      <th>nominal</th>\n      <th>ntpn</th>\n      <th>bank</th>\n      <th>nosk</th>\n      <th>nospm</th>\n      <th>NPWP9</th>\n      <th>Kode KLU</th>\n      <th>Status WP</th>\n      <th>Tgl.Daftar</th>\n      <th>NIP</th>\n      <th>Nama</th>\n      <th>Seksi</th>\n    </tr>\n  </thead>\n  <tbody>\n    <tr>\n      <th>0</th>\n      <td>010030567007000</td>\n      <td>THE MASTER STEEL MANUFACTORY</td>\n      <td>411211</td>\n      <td>900</td>\n      <td>2021-05-17</td>\n      <td>32100897.0</td>\n      <td>72E7F83BAKB6UDB3</td>\n      <td>0009 - BANK NEGARA INDONESIA - MPN G2</td>\n      <td>None</td>\n      <td>None</td>\n      <td>10030567.0</td>\n      <td>24102</td>\n      <td>Aktif</td>\n      <td>31/12/1983</td>\n      <td>60105681.0</td>\n      <td>Donna Novita</td>\n      <td>Waskon 2</td>\n    </tr>\n    <tr>\n      <th>1</th>\n      <td>010030567007000</td>\n      <td>THE MASTER STEEL MANUFACTORY</td>\n      <td>411211</td>\n      <td>900</td>\n      <td>2021-05-17</td>\n      <td>101713480.0</td>\n      <td>5E4D33L7RFF8TACS</td>\n      <td>0009 - BANK NEGARA INDONESIA - MPN G2</td>\n      <td>None</td>\n      <td>None</td>\n      <td>10030567.0</td>\n      <td>24102</td>\n      <td>Aktif</td>\n      <td>31/12/1983</td>\n      <td>60105681.0</td>\n      <td>Donna Novita</td>\n      <td>Waskon 2</td>\n    </tr>\n  </tbody>\n</table>\n</div>"
     },
     "metadata": {},
     "execution_count": 199
    }
   ],
   "source": [
    "mpn_ar = pd.merge(left=mpn, right=mfwp, how='left', left_on='Npwp_Full', right_on='NPWP FULL')\n",
    "mpn_ar = mpn_ar.drop(['NPWP FULL','Nama WP'],axis=1)\n",
    "mpn_ar.head(2)"
   ]
  },
  {
   "source": [
    "# + KDMAP"
   ],
   "cell_type": "markdown",
   "metadata": {}
  },
  {
   "cell_type": "code",
   "execution_count": 200,
   "metadata": {},
   "outputs": [
    {
     "output_type": "execute_result",
     "data": {
      "text/plain": [
       "   KD MAP           KODE MAP\n",
       "0  411111    PPh Minyak Bumi\n",
       "1  411112       PPh Gas Alam\n",
       "2  411113       PPh Gas Alam\n",
       "3  411119  PPh Migas Lainnya\n",
       "4  411121             PPh 21"
      ],
      "text/html": "<div>\n<style scoped>\n    .dataframe tbody tr th:only-of-type {\n        vertical-align: middle;\n    }\n\n    .dataframe tbody tr th {\n        vertical-align: top;\n    }\n\n    .dataframe thead th {\n        text-align: right;\n    }\n</style>\n<table border=\"1\" class=\"dataframe\">\n  <thead>\n    <tr style=\"text-align: right;\">\n      <th></th>\n      <th>KD MAP</th>\n      <th>KODE MAP</th>\n    </tr>\n  </thead>\n  <tbody>\n    <tr>\n      <th>0</th>\n      <td>411111</td>\n      <td>PPh Minyak Bumi</td>\n    </tr>\n    <tr>\n      <th>1</th>\n      <td>411112</td>\n      <td>PPh Gas Alam</td>\n    </tr>\n    <tr>\n      <th>2</th>\n      <td>411113</td>\n      <td>PPh Gas Alam</td>\n    </tr>\n    <tr>\n      <th>3</th>\n      <td>411119</td>\n      <td>PPh Migas Lainnya</td>\n    </tr>\n    <tr>\n      <th>4</th>\n      <td>411121</td>\n      <td>PPh 21</td>\n    </tr>\n  </tbody>\n</table>\n</div>"
     },
     "metadata": {},
     "execution_count": 200
    }
   ],
   "source": [
    "map.head()"
   ]
  },
  {
   "cell_type": "code",
   "execution_count": 201,
   "metadata": {},
   "outputs": [
    {
     "output_type": "execute_result",
     "data": {
      "text/plain": [
       "         Npwp_Full                          nama   kdmap kdbayar  datebayar  \\\n",
       "0  010030567007000  THE MASTER STEEL MANUFACTORY  411211     900 2021-05-17   \n",
       "1  010030567007000  THE MASTER STEEL MANUFACTORY  411211     900 2021-05-17   \n",
       "\n",
       "       nominal              ntpn                                   bank  nosk  \\\n",
       "0   32100897.0  72E7F83BAKB6UDB3  0009 - BANK NEGARA INDONESIA - MPN G2  None   \n",
       "1  101713480.0  5E4D33L7RFF8TACS  0009 - BANK NEGARA INDONESIA - MPN G2  None   \n",
       "\n",
       "  nospm       NPWP9 Kode KLU Status WP  Tgl.Daftar         NIP          Nama  \\\n",
       "0  None  10030567.0    24102     Aktif  31/12/1983  60105681.0  Donna Novita   \n",
       "1  None  10030567.0    24102     Aktif  31/12/1983  60105681.0  Donna Novita   \n",
       "\n",
       "      Seksi  KD MAP          KODE MAP  \n",
       "0  Waskon 2  411211  PPN Dalam Negeri  \n",
       "1  Waskon 2  411211  PPN Dalam Negeri  "
      ],
      "text/html": "<div>\n<style scoped>\n    .dataframe tbody tr th:only-of-type {\n        vertical-align: middle;\n    }\n\n    .dataframe tbody tr th {\n        vertical-align: top;\n    }\n\n    .dataframe thead th {\n        text-align: right;\n    }\n</style>\n<table border=\"1\" class=\"dataframe\">\n  <thead>\n    <tr style=\"text-align: right;\">\n      <th></th>\n      <th>Npwp_Full</th>\n      <th>nama</th>\n      <th>kdmap</th>\n      <th>kdbayar</th>\n      <th>datebayar</th>\n      <th>nominal</th>\n      <th>ntpn</th>\n      <th>bank</th>\n      <th>nosk</th>\n      <th>nospm</th>\n      <th>NPWP9</th>\n      <th>Kode KLU</th>\n      <th>Status WP</th>\n      <th>Tgl.Daftar</th>\n      <th>NIP</th>\n      <th>Nama</th>\n      <th>Seksi</th>\n      <th>KD MAP</th>\n      <th>KODE MAP</th>\n    </tr>\n  </thead>\n  <tbody>\n    <tr>\n      <th>0</th>\n      <td>010030567007000</td>\n      <td>THE MASTER STEEL MANUFACTORY</td>\n      <td>411211</td>\n      <td>900</td>\n      <td>2021-05-17</td>\n      <td>32100897.0</td>\n      <td>72E7F83BAKB6UDB3</td>\n      <td>0009 - BANK NEGARA INDONESIA - MPN G2</td>\n      <td>None</td>\n      <td>None</td>\n      <td>10030567.0</td>\n      <td>24102</td>\n      <td>Aktif</td>\n      <td>31/12/1983</td>\n      <td>60105681.0</td>\n      <td>Donna Novita</td>\n      <td>Waskon 2</td>\n      <td>411211</td>\n      <td>PPN Dalam Negeri</td>\n    </tr>\n    <tr>\n      <th>1</th>\n      <td>010030567007000</td>\n      <td>THE MASTER STEEL MANUFACTORY</td>\n      <td>411211</td>\n      <td>900</td>\n      <td>2021-05-17</td>\n      <td>101713480.0</td>\n      <td>5E4D33L7RFF8TACS</td>\n      <td>0009 - BANK NEGARA INDONESIA - MPN G2</td>\n      <td>None</td>\n      <td>None</td>\n      <td>10030567.0</td>\n      <td>24102</td>\n      <td>Aktif</td>\n      <td>31/12/1983</td>\n      <td>60105681.0</td>\n      <td>Donna Novita</td>\n      <td>Waskon 2</td>\n      <td>411211</td>\n      <td>PPN Dalam Negeri</td>\n    </tr>\n  </tbody>\n</table>\n</div>"
     },
     "metadata": {},
     "execution_count": 201
    }
   ],
   "source": [
    "mpn_ar_map = pd.merge(left=mpn_ar, right=map,left_on='kdmap',right_on='KD MAP',how='left' )\n",
    "mpn_ar_map.head(2)"
   ]
  },
  {
   "cell_type": "code",
   "execution_count": 202,
   "metadata": {},
   "outputs": [
    {
     "output_type": "execute_result",
     "data": {
      "text/plain": [
       "         Npwp_Full                   Wajib_Pajak   kdmap kdbayar  datebayar  \\\n",
       "0  010030567007000  THE MASTER STEEL MANUFACTORY  411211     900 2021-05-17   \n",
       "1  010030567007000  THE MASTER STEEL MANUFACTORY  411211     900 2021-05-17   \n",
       "\n",
       "       nominal              ntpn                                   bank  nosk  \\\n",
       "0   32100897.0  72E7F83BAKB6UDB3  0009 - BANK NEGARA INDONESIA - MPN G2  None   \n",
       "1  101713480.0  5E4D33L7RFF8TACS  0009 - BANK NEGARA INDONESIA - MPN G2  None   \n",
       "\n",
       "  nospm       NPWP9 Kode KLU Status WP  Tgl.Daftar         NIP            AR  \\\n",
       "0  None  10030567.0    24102     Aktif  31/12/1983  60105681.0  Donna Novita   \n",
       "1  None  10030567.0    24102     Aktif  31/12/1983  60105681.0  Donna Novita   \n",
       "\n",
       "      Seksi  KD MAP          KODE MAP  \n",
       "0  Waskon 2  411211  PPN Dalam Negeri  \n",
       "1  Waskon 2  411211  PPN Dalam Negeri  "
      ],
      "text/html": "<div>\n<style scoped>\n    .dataframe tbody tr th:only-of-type {\n        vertical-align: middle;\n    }\n\n    .dataframe tbody tr th {\n        vertical-align: top;\n    }\n\n    .dataframe thead th {\n        text-align: right;\n    }\n</style>\n<table border=\"1\" class=\"dataframe\">\n  <thead>\n    <tr style=\"text-align: right;\">\n      <th></th>\n      <th>Npwp_Full</th>\n      <th>Wajib_Pajak</th>\n      <th>kdmap</th>\n      <th>kdbayar</th>\n      <th>datebayar</th>\n      <th>nominal</th>\n      <th>ntpn</th>\n      <th>bank</th>\n      <th>nosk</th>\n      <th>nospm</th>\n      <th>NPWP9</th>\n      <th>Kode KLU</th>\n      <th>Status WP</th>\n      <th>Tgl.Daftar</th>\n      <th>NIP</th>\n      <th>AR</th>\n      <th>Seksi</th>\n      <th>KD MAP</th>\n      <th>KODE MAP</th>\n    </tr>\n  </thead>\n  <tbody>\n    <tr>\n      <th>0</th>\n      <td>010030567007000</td>\n      <td>THE MASTER STEEL MANUFACTORY</td>\n      <td>411211</td>\n      <td>900</td>\n      <td>2021-05-17</td>\n      <td>32100897.0</td>\n      <td>72E7F83BAKB6UDB3</td>\n      <td>0009 - BANK NEGARA INDONESIA - MPN G2</td>\n      <td>None</td>\n      <td>None</td>\n      <td>10030567.0</td>\n      <td>24102</td>\n      <td>Aktif</td>\n      <td>31/12/1983</td>\n      <td>60105681.0</td>\n      <td>Donna Novita</td>\n      <td>Waskon 2</td>\n      <td>411211</td>\n      <td>PPN Dalam Negeri</td>\n    </tr>\n    <tr>\n      <th>1</th>\n      <td>010030567007000</td>\n      <td>THE MASTER STEEL MANUFACTORY</td>\n      <td>411211</td>\n      <td>900</td>\n      <td>2021-05-17</td>\n      <td>101713480.0</td>\n      <td>5E4D33L7RFF8TACS</td>\n      <td>0009 - BANK NEGARA INDONESIA - MPN G2</td>\n      <td>None</td>\n      <td>None</td>\n      <td>10030567.0</td>\n      <td>24102</td>\n      <td>Aktif</td>\n      <td>31/12/1983</td>\n      <td>60105681.0</td>\n      <td>Donna Novita</td>\n      <td>Waskon 2</td>\n      <td>411211</td>\n      <td>PPN Dalam Negeri</td>\n    </tr>\n  </tbody>\n</table>\n</div>"
     },
     "metadata": {},
     "execution_count": 202
    }
   ],
   "source": [
    "mpn_ar_map = mpn_ar_map.rename(columns={'nama':'Wajib_Pajak','Nama':'AR'})\n",
    "mpn_ar_map.head(2)"
   ]
  },
  {
   "cell_type": "code",
   "execution_count": 203,
   "metadata": {},
   "outputs": [],
   "source": [
    "mpn_ar_map = mpn_ar_map[['Npwp_Full','Wajib_Pajak','KODE MAP','kdbayar','datebayar','nominal','ntpn','nosk','nospm','Kode KLU','Status WP','AR','Seksi']]"
   ]
  },
  {
   "cell_type": "code",
   "execution_count": 204,
   "metadata": {},
   "outputs": [
    {
     "output_type": "execute_result",
     "data": {
      "text/plain": [
       "         Npwp_Full                   Wajib_Pajak          KODE MAP kdbayar  \\\n",
       "0  010030567007000  THE MASTER STEEL MANUFACTORY  PPN Dalam Negeri     900   \n",
       "1  010030567007000  THE MASTER STEEL MANUFACTORY  PPN Dalam Negeri     900   \n",
       "\n",
       "   datebayar      nominal              ntpn  nosk nospm Kode KLU Status WP  \\\n",
       "0 2021-05-17   32100897.0  72E7F83BAKB6UDB3  None  None    24102     Aktif   \n",
       "1 2021-05-17  101713480.0  5E4D33L7RFF8TACS  None  None    24102     Aktif   \n",
       "\n",
       "             AR     Seksi  \n",
       "0  Donna Novita  Waskon 2  \n",
       "1  Donna Novita  Waskon 2  "
      ],
      "text/html": "<div>\n<style scoped>\n    .dataframe tbody tr th:only-of-type {\n        vertical-align: middle;\n    }\n\n    .dataframe tbody tr th {\n        vertical-align: top;\n    }\n\n    .dataframe thead th {\n        text-align: right;\n    }\n</style>\n<table border=\"1\" class=\"dataframe\">\n  <thead>\n    <tr style=\"text-align: right;\">\n      <th></th>\n      <th>Npwp_Full</th>\n      <th>Wajib_Pajak</th>\n      <th>KODE MAP</th>\n      <th>kdbayar</th>\n      <th>datebayar</th>\n      <th>nominal</th>\n      <th>ntpn</th>\n      <th>nosk</th>\n      <th>nospm</th>\n      <th>Kode KLU</th>\n      <th>Status WP</th>\n      <th>AR</th>\n      <th>Seksi</th>\n    </tr>\n  </thead>\n  <tbody>\n    <tr>\n      <th>0</th>\n      <td>010030567007000</td>\n      <td>THE MASTER STEEL MANUFACTORY</td>\n      <td>PPN Dalam Negeri</td>\n      <td>900</td>\n      <td>2021-05-17</td>\n      <td>32100897.0</td>\n      <td>72E7F83BAKB6UDB3</td>\n      <td>None</td>\n      <td>None</td>\n      <td>24102</td>\n      <td>Aktif</td>\n      <td>Donna Novita</td>\n      <td>Waskon 2</td>\n    </tr>\n    <tr>\n      <th>1</th>\n      <td>010030567007000</td>\n      <td>THE MASTER STEEL MANUFACTORY</td>\n      <td>PPN Dalam Negeri</td>\n      <td>900</td>\n      <td>2021-05-17</td>\n      <td>101713480.0</td>\n      <td>5E4D33L7RFF8TACS</td>\n      <td>None</td>\n      <td>None</td>\n      <td>24102</td>\n      <td>Aktif</td>\n      <td>Donna Novita</td>\n      <td>Waskon 2</td>\n    </tr>\n  </tbody>\n</table>\n</div>"
     },
     "metadata": {},
     "execution_count": 204
    }
   ],
   "source": [
    "mpn_ar_map.head(2)"
   ]
  },
  {
   "source": [
    "# +KLU"
   ],
   "cell_type": "markdown",
   "metadata": {}
  },
  {
   "cell_type": "code",
   "execution_count": 205,
   "metadata": {},
   "outputs": [
    {
     "output_type": "stream",
     "name": "stdout",
     "text": [
      "  klu_kode                                           klu_nama klu_sektor\n0    50131     ANGKUTAN LAUT DOMESTIK UMUM LINER UNTUK BARANG          H\n1    47249                 PERDAGANGAN ECERAN MAKANAN LAINNYA          G\n2    47413        PERDAGANGAN ECERAN PIRANTI LUNAK (SOFTWARE)          G\n3    47863  PERDAGANGAN ECERAN KAKI LIMA DAN LOS PASAR BAR...          G\n4    47891  PERDAGANGAN ECERAN KAKI LIMA DAN LOS PASAR HEW...          G\n"
     ]
    },
    {
     "output_type": "execute_result",
     "data": {
      "text/plain": [
       "  Kode                                           Kategori\n",
       "0    A                 Pertanian, Kehutanan dan Perikanan\n",
       "1    B                        Pertambangan dan Penggalian\n",
       "2    C                                Industri Pengolahan\n",
       "3    D  Pengadaan Listrik, Gas, Uap/Air Panas dan Udar...\n",
       "4    E  Pengadaan Air, Pengelolaan Sampah dan Daur Ula..."
      ],
      "text/html": "<div>\n<style scoped>\n    .dataframe tbody tr th:only-of-type {\n        vertical-align: middle;\n    }\n\n    .dataframe tbody tr th {\n        vertical-align: top;\n    }\n\n    .dataframe thead th {\n        text-align: right;\n    }\n</style>\n<table border=\"1\" class=\"dataframe\">\n  <thead>\n    <tr style=\"text-align: right;\">\n      <th></th>\n      <th>Kode</th>\n      <th>Kategori</th>\n    </tr>\n  </thead>\n  <tbody>\n    <tr>\n      <th>0</th>\n      <td>A</td>\n      <td>Pertanian, Kehutanan dan Perikanan</td>\n    </tr>\n    <tr>\n      <th>1</th>\n      <td>B</td>\n      <td>Pertambangan dan Penggalian</td>\n    </tr>\n    <tr>\n      <th>2</th>\n      <td>C</td>\n      <td>Industri Pengolahan</td>\n    </tr>\n    <tr>\n      <th>3</th>\n      <td>D</td>\n      <td>Pengadaan Listrik, Gas, Uap/Air Panas dan Udar...</td>\n    </tr>\n    <tr>\n      <th>4</th>\n      <td>E</td>\n      <td>Pengadaan Air, Pengelolaan Sampah dan Daur Ula...</td>\n    </tr>\n  </tbody>\n</table>\n</div>"
     },
     "metadata": {},
     "execution_count": 205
    }
   ],
   "source": [
    "klu = pd.read_csv('D:/DATA KANTOR/MASTERFILE/KLU.csv', sep=';')\n",
    "klu_kategori = pd.read_excel('D:/DATA KANTOR/MASTERFILE/KLU_sektor.xlsx', engine='openpyxl' )\n",
    "print(klu.head())\n",
    "klu_kategori.head()"
   ]
  },
  {
   "cell_type": "code",
   "execution_count": 206,
   "metadata": {},
   "outputs": [
    {
     "output_type": "execute_result",
     "data": {
      "text/plain": [
       "         Npwp_Full                   Wajib_Pajak          KODE MAP kdbayar  \\\n",
       "0  010030567007000  THE MASTER STEEL MANUFACTORY  PPN Dalam Negeri     900   \n",
       "1  010030567007000  THE MASTER STEEL MANUFACTORY  PPN Dalam Negeri     900   \n",
       "\n",
       "   datebayar      nominal              ntpn  nosk nospm Kode KLU Status WP  \\\n",
       "0 2021-05-17   32100897.0  72E7F83BAKB6UDB3  None  None    24102     Aktif   \n",
       "1 2021-05-17  101713480.0  5E4D33L7RFF8TACS  None  None    24102     Aktif   \n",
       "\n",
       "             AR     Seksi klu_kode  \\\n",
       "0  Donna Novita  Waskon 2    24102   \n",
       "1  Donna Novita  Waskon 2    24102   \n",
       "\n",
       "                                     klu_nama klu_sektor  \n",
       "0  INDUSTRI PENGGILINGAN BAJA (STEEL ROLLING)          C  \n",
       "1  INDUSTRI PENGGILINGAN BAJA (STEEL ROLLING)          C  "
      ],
      "text/html": "<div>\n<style scoped>\n    .dataframe tbody tr th:only-of-type {\n        vertical-align: middle;\n    }\n\n    .dataframe tbody tr th {\n        vertical-align: top;\n    }\n\n    .dataframe thead th {\n        text-align: right;\n    }\n</style>\n<table border=\"1\" class=\"dataframe\">\n  <thead>\n    <tr style=\"text-align: right;\">\n      <th></th>\n      <th>Npwp_Full</th>\n      <th>Wajib_Pajak</th>\n      <th>KODE MAP</th>\n      <th>kdbayar</th>\n      <th>datebayar</th>\n      <th>nominal</th>\n      <th>ntpn</th>\n      <th>nosk</th>\n      <th>nospm</th>\n      <th>Kode KLU</th>\n      <th>Status WP</th>\n      <th>AR</th>\n      <th>Seksi</th>\n      <th>klu_kode</th>\n      <th>klu_nama</th>\n      <th>klu_sektor</th>\n    </tr>\n  </thead>\n  <tbody>\n    <tr>\n      <th>0</th>\n      <td>010030567007000</td>\n      <td>THE MASTER STEEL MANUFACTORY</td>\n      <td>PPN Dalam Negeri</td>\n      <td>900</td>\n      <td>2021-05-17</td>\n      <td>32100897.0</td>\n      <td>72E7F83BAKB6UDB3</td>\n      <td>None</td>\n      <td>None</td>\n      <td>24102</td>\n      <td>Aktif</td>\n      <td>Donna Novita</td>\n      <td>Waskon 2</td>\n      <td>24102</td>\n      <td>INDUSTRI PENGGILINGAN BAJA (STEEL ROLLING)</td>\n      <td>C</td>\n    </tr>\n    <tr>\n      <th>1</th>\n      <td>010030567007000</td>\n      <td>THE MASTER STEEL MANUFACTORY</td>\n      <td>PPN Dalam Negeri</td>\n      <td>900</td>\n      <td>2021-05-17</td>\n      <td>101713480.0</td>\n      <td>5E4D33L7RFF8TACS</td>\n      <td>None</td>\n      <td>None</td>\n      <td>24102</td>\n      <td>Aktif</td>\n      <td>Donna Novita</td>\n      <td>Waskon 2</td>\n      <td>24102</td>\n      <td>INDUSTRI PENGGILINGAN BAJA (STEEL ROLLING)</td>\n      <td>C</td>\n    </tr>\n  </tbody>\n</table>\n</div>"
     },
     "metadata": {},
     "execution_count": 206
    }
   ],
   "source": [
    "mpn_ar_map_klu = pd.merge(left=mpn_ar_map, right=klu, left_on='Kode KLU', right_on='klu_kode', how='left')\n",
    "mpn_ar_map_klu.head(2)"
   ]
  },
  {
   "cell_type": "code",
   "execution_count": 207,
   "metadata": {},
   "outputs": [
    {
     "output_type": "execute_result",
     "data": {
      "text/plain": [
       "         Npwp_Full                   Wajib_Pajak          KODE MAP kdbayar  \\\n",
       "0  010030567007000  THE MASTER STEEL MANUFACTORY  PPN Dalam Negeri     900   \n",
       "1  010030567007000  THE MASTER STEEL MANUFACTORY  PPN Dalam Negeri     900   \n",
       "\n",
       "   datebayar      nominal              ntpn  nosk nospm Kode KLU Status WP  \\\n",
       "0 2021-05-17   32100897.0  72E7F83BAKB6UDB3  None  None    24102     Aktif   \n",
       "1 2021-05-17  101713480.0  5E4D33L7RFF8TACS  None  None    24102     Aktif   \n",
       "\n",
       "             AR     Seksi klu_kode  \\\n",
       "0  Donna Novita  Waskon 2    24102   \n",
       "1  Donna Novita  Waskon 2    24102   \n",
       "\n",
       "                                     klu_nama klu_sektor Kode  \\\n",
       "0  INDUSTRI PENGGILINGAN BAJA (STEEL ROLLING)          C    C   \n",
       "1  INDUSTRI PENGGILINGAN BAJA (STEEL ROLLING)          C    C   \n",
       "\n",
       "              Kategori  \n",
       "0  Industri Pengolahan  \n",
       "1  Industri Pengolahan  "
      ],
      "text/html": "<div>\n<style scoped>\n    .dataframe tbody tr th:only-of-type {\n        vertical-align: middle;\n    }\n\n    .dataframe tbody tr th {\n        vertical-align: top;\n    }\n\n    .dataframe thead th {\n        text-align: right;\n    }\n</style>\n<table border=\"1\" class=\"dataframe\">\n  <thead>\n    <tr style=\"text-align: right;\">\n      <th></th>\n      <th>Npwp_Full</th>\n      <th>Wajib_Pajak</th>\n      <th>KODE MAP</th>\n      <th>kdbayar</th>\n      <th>datebayar</th>\n      <th>nominal</th>\n      <th>ntpn</th>\n      <th>nosk</th>\n      <th>nospm</th>\n      <th>Kode KLU</th>\n      <th>Status WP</th>\n      <th>AR</th>\n      <th>Seksi</th>\n      <th>klu_kode</th>\n      <th>klu_nama</th>\n      <th>klu_sektor</th>\n      <th>Kode</th>\n      <th>Kategori</th>\n    </tr>\n  </thead>\n  <tbody>\n    <tr>\n      <th>0</th>\n      <td>010030567007000</td>\n      <td>THE MASTER STEEL MANUFACTORY</td>\n      <td>PPN Dalam Negeri</td>\n      <td>900</td>\n      <td>2021-05-17</td>\n      <td>32100897.0</td>\n      <td>72E7F83BAKB6UDB3</td>\n      <td>None</td>\n      <td>None</td>\n      <td>24102</td>\n      <td>Aktif</td>\n      <td>Donna Novita</td>\n      <td>Waskon 2</td>\n      <td>24102</td>\n      <td>INDUSTRI PENGGILINGAN BAJA (STEEL ROLLING)</td>\n      <td>C</td>\n      <td>C</td>\n      <td>Industri Pengolahan</td>\n    </tr>\n    <tr>\n      <th>1</th>\n      <td>010030567007000</td>\n      <td>THE MASTER STEEL MANUFACTORY</td>\n      <td>PPN Dalam Negeri</td>\n      <td>900</td>\n      <td>2021-05-17</td>\n      <td>101713480.0</td>\n      <td>5E4D33L7RFF8TACS</td>\n      <td>None</td>\n      <td>None</td>\n      <td>24102</td>\n      <td>Aktif</td>\n      <td>Donna Novita</td>\n      <td>Waskon 2</td>\n      <td>24102</td>\n      <td>INDUSTRI PENGGILINGAN BAJA (STEEL ROLLING)</td>\n      <td>C</td>\n      <td>C</td>\n      <td>Industri Pengolahan</td>\n    </tr>\n  </tbody>\n</table>\n</div>"
     },
     "metadata": {},
     "execution_count": 207
    }
   ],
   "source": [
    "mpn_ar_map_klu = pd.merge(left=mpn_ar_map_klu, right=klu_kategori, left_on='klu_sektor', right_on='Kode', how='left')\n",
    "mpn_ar_map_klu.head(2)"
   ]
  },
  {
   "cell_type": "code",
   "execution_count": 208,
   "metadata": {},
   "outputs": [
    {
     "output_type": "execute_result",
     "data": {
      "text/plain": [
       "         Npwp_Full                   Wajib_Pajak          KODE MAP kdbayar  \\\n",
       "0  010030567007000  THE MASTER STEEL MANUFACTORY  PPN Dalam Negeri     900   \n",
       "1  010030567007000  THE MASTER STEEL MANUFACTORY  PPN Dalam Negeri     900   \n",
       "\n",
       "   datebayar      nominal              ntpn  nosk Kode KLU Status WP  \\\n",
       "0 2021-05-17   32100897.0  72E7F83BAKB6UDB3  None    24102     Aktif   \n",
       "1 2021-05-17  101713480.0  5E4D33L7RFF8TACS  None    24102     Aktif   \n",
       "\n",
       "             AR     Seksi                                    klu_nama  \\\n",
       "0  Donna Novita  Waskon 2  INDUSTRI PENGGILINGAN BAJA (STEEL ROLLING)   \n",
       "1  Donna Novita  Waskon 2  INDUSTRI PENGGILINGAN BAJA (STEEL ROLLING)   \n",
       "\n",
       "              Kategori  \n",
       "0  Industri Pengolahan  \n",
       "1  Industri Pengolahan  "
      ],
      "text/html": "<div>\n<style scoped>\n    .dataframe tbody tr th:only-of-type {\n        vertical-align: middle;\n    }\n\n    .dataframe tbody tr th {\n        vertical-align: top;\n    }\n\n    .dataframe thead th {\n        text-align: right;\n    }\n</style>\n<table border=\"1\" class=\"dataframe\">\n  <thead>\n    <tr style=\"text-align: right;\">\n      <th></th>\n      <th>Npwp_Full</th>\n      <th>Wajib_Pajak</th>\n      <th>KODE MAP</th>\n      <th>kdbayar</th>\n      <th>datebayar</th>\n      <th>nominal</th>\n      <th>ntpn</th>\n      <th>nosk</th>\n      <th>Kode KLU</th>\n      <th>Status WP</th>\n      <th>AR</th>\n      <th>Seksi</th>\n      <th>klu_nama</th>\n      <th>Kategori</th>\n    </tr>\n  </thead>\n  <tbody>\n    <tr>\n      <th>0</th>\n      <td>010030567007000</td>\n      <td>THE MASTER STEEL MANUFACTORY</td>\n      <td>PPN Dalam Negeri</td>\n      <td>900</td>\n      <td>2021-05-17</td>\n      <td>32100897.0</td>\n      <td>72E7F83BAKB6UDB3</td>\n      <td>None</td>\n      <td>24102</td>\n      <td>Aktif</td>\n      <td>Donna Novita</td>\n      <td>Waskon 2</td>\n      <td>INDUSTRI PENGGILINGAN BAJA (STEEL ROLLING)</td>\n      <td>Industri Pengolahan</td>\n    </tr>\n    <tr>\n      <th>1</th>\n      <td>010030567007000</td>\n      <td>THE MASTER STEEL MANUFACTORY</td>\n      <td>PPN Dalam Negeri</td>\n      <td>900</td>\n      <td>2021-05-17</td>\n      <td>101713480.0</td>\n      <td>5E4D33L7RFF8TACS</td>\n      <td>None</td>\n      <td>24102</td>\n      <td>Aktif</td>\n      <td>Donna Novita</td>\n      <td>Waskon 2</td>\n      <td>INDUSTRI PENGGILINGAN BAJA (STEEL ROLLING)</td>\n      <td>Industri Pengolahan</td>\n    </tr>\n  </tbody>\n</table>\n</div>"
     },
     "metadata": {},
     "execution_count": 208
    }
   ],
   "source": [
    "mpn_ar_map_klu = mpn_ar_map_klu.drop(columns=['klu_kode','klu_sektor','Kode','nospm'])\n",
    "mpn_ar_map_klu.head(2)"
   ]
  },
  {
   "cell_type": "code",
   "execution_count": 209,
   "metadata": {},
   "outputs": [],
   "source": [
    "header = pd.Series(mpn_ar_map_klu.columns)\n",
    "header = header.str.upper()\n",
    "header = header.str.replace(' ','_')"
   ]
  },
  {
   "cell_type": "code",
   "execution_count": 210,
   "metadata": {},
   "outputs": [
    {
     "output_type": "execute_result",
     "data": {
      "text/plain": [
       "         NPWP_FULL                   WAJIB_PAJAK          KODE_MAP KDBAYAR  \\\n",
       "0  010030567007000  THE MASTER STEEL MANUFACTORY  PPN Dalam Negeri     900   \n",
       "1  010030567007000  THE MASTER STEEL MANUFACTORY  PPN Dalam Negeri     900   \n",
       "\n",
       "   DATEBAYAR      NOMINAL              NTPN  NOSK KODE_KLU STATUS_WP  \\\n",
       "0 2021-05-17   32100897.0  72E7F83BAKB6UDB3  None    24102     Aktif   \n",
       "1 2021-05-17  101713480.0  5E4D33L7RFF8TACS  None    24102     Aktif   \n",
       "\n",
       "             AR     SEKSI                                    KLU_NAMA  \\\n",
       "0  Donna Novita  Waskon 2  INDUSTRI PENGGILINGAN BAJA (STEEL ROLLING)   \n",
       "1  Donna Novita  Waskon 2  INDUSTRI PENGGILINGAN BAJA (STEEL ROLLING)   \n",
       "\n",
       "              KATEGORI  \n",
       "0  Industri Pengolahan  \n",
       "1  Industri Pengolahan  "
      ],
      "text/html": "<div>\n<style scoped>\n    .dataframe tbody tr th:only-of-type {\n        vertical-align: middle;\n    }\n\n    .dataframe tbody tr th {\n        vertical-align: top;\n    }\n\n    .dataframe thead th {\n        text-align: right;\n    }\n</style>\n<table border=\"1\" class=\"dataframe\">\n  <thead>\n    <tr style=\"text-align: right;\">\n      <th></th>\n      <th>NPWP_FULL</th>\n      <th>WAJIB_PAJAK</th>\n      <th>KODE_MAP</th>\n      <th>KDBAYAR</th>\n      <th>DATEBAYAR</th>\n      <th>NOMINAL</th>\n      <th>NTPN</th>\n      <th>NOSK</th>\n      <th>KODE_KLU</th>\n      <th>STATUS_WP</th>\n      <th>AR</th>\n      <th>SEKSI</th>\n      <th>KLU_NAMA</th>\n      <th>KATEGORI</th>\n    </tr>\n  </thead>\n  <tbody>\n    <tr>\n      <th>0</th>\n      <td>010030567007000</td>\n      <td>THE MASTER STEEL MANUFACTORY</td>\n      <td>PPN Dalam Negeri</td>\n      <td>900</td>\n      <td>2021-05-17</td>\n      <td>32100897.0</td>\n      <td>72E7F83BAKB6UDB3</td>\n      <td>None</td>\n      <td>24102</td>\n      <td>Aktif</td>\n      <td>Donna Novita</td>\n      <td>Waskon 2</td>\n      <td>INDUSTRI PENGGILINGAN BAJA (STEEL ROLLING)</td>\n      <td>Industri Pengolahan</td>\n    </tr>\n    <tr>\n      <th>1</th>\n      <td>010030567007000</td>\n      <td>THE MASTER STEEL MANUFACTORY</td>\n      <td>PPN Dalam Negeri</td>\n      <td>900</td>\n      <td>2021-05-17</td>\n      <td>101713480.0</td>\n      <td>5E4D33L7RFF8TACS</td>\n      <td>None</td>\n      <td>24102</td>\n      <td>Aktif</td>\n      <td>Donna Novita</td>\n      <td>Waskon 2</td>\n      <td>INDUSTRI PENGGILINGAN BAJA (STEEL ROLLING)</td>\n      <td>Industri Pengolahan</td>\n    </tr>\n  </tbody>\n</table>\n</div>"
     },
     "metadata": {},
     "execution_count": 210
    }
   ],
   "source": [
    "mpn_ar_map_klu.columns = header\n",
    "mpn_ar_map_klu.head(2)"
   ]
  },
  {
   "cell_type": "code",
   "execution_count": 211,
   "metadata": {},
   "outputs": [],
   "source": [
    "mpn_ar_map_klu.to_excel('D:\\DATA KANTOR\\JUPYTER NOTEBOOK\\Export\\MPNSPM.xlsx',index=False)"
   ]
  },
  {
   "cell_type": "code",
   "execution_count": null,
   "metadata": {},
   "outputs": [],
   "source": []
  }
 ],
 "metadata": {
  "kernelspec": {
   "name": "python390jvsc74a57bd0d0c403077b2524c67f7f8e11f307ce8f438e6a6fa2e4184536d9df58ffd5b860",
   "display_name": "Python 3.9.0 64-bit"
  },
  "language_info": {
   "codemirror_mode": {
    "name": "ipython",
    "version": 3
   },
   "file_extension": ".py",
   "mimetype": "text/x-python",
   "name": "python",
   "nbconvert_exporter": "python",
   "pygments_lexer": "ipython3",
   "version": "3.9.0"
  },
  "metadata": {
   "interpreter": {
    "hash": "d0c403077b2524c67f7f8e11f307ce8f438e6a6fa2e4184536d9df58ffd5b860"
   }
  }
 },
 "nbformat": 4,
 "nbformat_minor": 4
}